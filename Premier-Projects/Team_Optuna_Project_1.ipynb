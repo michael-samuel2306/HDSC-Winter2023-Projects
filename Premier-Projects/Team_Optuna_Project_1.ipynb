{
  "nbformat": 4,
  "nbformat_minor": 0,
  "metadata": {
    "colab": {
      "provenance": []
    },
    "kernelspec": {
      "name": "python3",
      "display_name": "Python 3"
    },
    "language_info": {
      "name": "python"
    }
  },
  "cells": [
    {
      "cell_type": "markdown",
      "source": [
        "# HDSC WINTER '23 PREMIER PROJECT\n",
        "## **TEAM OPTUNA**"
      ],
      "metadata": {
        "id": "sabNi-Gvi78y"
      }
    },
    {
      "cell_type": "markdown",
      "source": [
        "## Title: ROAD ACCIDENTS DUE TO DRIVER VIOLATIONS (INDIA)\n",
        "<p>\n",
        "This dataset contains region wise records of road accidents from 2014 to 2016 in India, as a result of driver violations\n",
        "\n",
        "<ul>\n",
        "<li>sno: Serial number of the state/UT (Integer)</li>\n",
        "<li>stateut: Name of the state/UT (String)</li>\n",
        "<li>region: Region of the state/UT (String)</li>\n",
        "<li>alcintake2014: Number of accidents due to alcohol intake in 2014 (Integer)</li>\n",
        "<li>overspeed2014: Number of accidents due to overspeeding in 2014 (Integer)</li>\n",
        "<li>overtaking2014: Number of accidents due to overtaking in 2014 (Integer)</li>\n",
        "<li>lanejumping2014: Number of accidents due to lane jumping in 2014 (Integer)</li>\n",
        "<li>asleep2014: Number of accidents due to sleeping at the wheel in 2014 (Integer)</li>\n",
        "<li>othercause2014: Number of accidents due to miscellaneous causes in 2014 (Integer)</li>\n",
        "<li>alcintake2016: Number of accidents due to alcohol intake in 2016 (Integer)</li>\n",
        "<li>overspeed2016: Number of accidents due to overspeeding in 2016 (Integer)</li>\n",
        "<li>lanejumping2016: Number of accidents due to lane jumping in 2016 (Integer)</li>\n",
        "<li>overtaking2016: Number of accidents due to overtaking in 2016 (Integer)</li>\n",
        "<li>asleep2016: Number of accidents due to sleeping at the wheel in 2016 (Integer)</li>\n",
        "<li>othercause2016: Number of accidents due to miscellaneous causes in 2016 (Integer)</li>\n",
        "</ul>\n",
        "</p>"
      ],
      "metadata": {
        "id": "-lXHcV66wEUa"
      }
    },
    {
      "cell_type": "code",
      "execution_count": null,
      "metadata": {
        "id": "KwlorrSti6SW"
      },
      "outputs": [],
      "source": [
        "# importing the necessary libraries\n",
        "\n",
        "import numpy as np\n",
        "import pandas as pd\n",
        "import seaborn as sns\n",
        "import matplotlib.pyplot as plt\n",
        "sns.set_theme(style=\"darkgrid\")\n",
        "%matplotlib inline"
      ]
    },
    {
      "cell_type": "code",
      "source": [
        "# loading our dataset\n",
        "drivers = pd.read_csv(\"/content/driverresponse.csv\", index_col='sno')\n",
        "drivers.head()"
      ],
      "metadata": {
        "colab": {
          "base_uri": "https://localhost:8080/",
          "height": 336
        },
        "id": "qbe6sEPTjKJp",
        "outputId": "517799a0-b838-461a-d143-58d8fe5e3b37"
      },
      "execution_count": null,
      "outputs": [
        {
          "output_type": "execute_result",
          "data": {
            "text/plain": [
              "     index            stateut     region  regionid  alcintake2014  \\\n",
              "sno                                                                 \n",
              "1        0     Andhra Pradesh      south         2            594   \n",
              "2        1  Arunachal Pradesh  northeast         5             11   \n",
              "3        2              Assam  northeast         5            613   \n",
              "4        3              Bihar      north         1           1680   \n",
              "5        4       Chhattisgarh     centre         9            335   \n",
              "\n",
              "     overspeed2014  overtaking2014  lanejumping2014  wrongside2014  \\\n",
              "sno                                                                  \n",
              "1          12747.0             507              328            668   \n",
              "2             16.0               0                0              0   \n",
              "3           4596.0             129              104            156   \n",
              "4           1496.0             278              236            308   \n",
              "5           6720.0             188              313            266   \n",
              "\n",
              "     signalavoid2014  asleep2014  othercause2014  alcintake2016  \\\n",
              "sno                                                               \n",
              "1                 29         154            1938            128   \n",
              "2                  0           0              22             15   \n",
              "3                  7           3             628            352   \n",
              "4                  7          72             439            593   \n",
              "5                 10          81             520            145   \n",
              "\n",
              "     overspeed2016  signalavoid2016  wrongside2016  lanejumping2016  \\\n",
              "sno                                                                   \n",
              "1            17286               40            667              325   \n",
              "2               45                0              7               11   \n",
              "3             3520               64            334              156   \n",
              "4             2323                8            458              156   \n",
              "5             6660               62            410              175   \n",
              "\n",
              "     overtaking2016  asleep2016  othercause2016  \n",
              "sno                                              \n",
              "1              1024         306            2868  \n",
              "2                 8           8              18  \n",
              "3               371           3             873  \n",
              "4               573         122             612  \n",
              "5               467         144             953  "
            ],
            "text/html": [
              "\n",
              "  <div id=\"df-c019d1c6-6830-4b0d-a80a-7e7cec536b62\">\n",
              "    <div class=\"colab-df-container\">\n",
              "      <div>\n",
              "<style scoped>\n",
              "    .dataframe tbody tr th:only-of-type {\n",
              "        vertical-align: middle;\n",
              "    }\n",
              "\n",
              "    .dataframe tbody tr th {\n",
              "        vertical-align: top;\n",
              "    }\n",
              "\n",
              "    .dataframe thead th {\n",
              "        text-align: right;\n",
              "    }\n",
              "</style>\n",
              "<table border=\"1\" class=\"dataframe\">\n",
              "  <thead>\n",
              "    <tr style=\"text-align: right;\">\n",
              "      <th></th>\n",
              "      <th>index</th>\n",
              "      <th>stateut</th>\n",
              "      <th>region</th>\n",
              "      <th>regionid</th>\n",
              "      <th>alcintake2014</th>\n",
              "      <th>overspeed2014</th>\n",
              "      <th>overtaking2014</th>\n",
              "      <th>lanejumping2014</th>\n",
              "      <th>wrongside2014</th>\n",
              "      <th>signalavoid2014</th>\n",
              "      <th>asleep2014</th>\n",
              "      <th>othercause2014</th>\n",
              "      <th>alcintake2016</th>\n",
              "      <th>overspeed2016</th>\n",
              "      <th>signalavoid2016</th>\n",
              "      <th>wrongside2016</th>\n",
              "      <th>lanejumping2016</th>\n",
              "      <th>overtaking2016</th>\n",
              "      <th>asleep2016</th>\n",
              "      <th>othercause2016</th>\n",
              "    </tr>\n",
              "    <tr>\n",
              "      <th>sno</th>\n",
              "      <th></th>\n",
              "      <th></th>\n",
              "      <th></th>\n",
              "      <th></th>\n",
              "      <th></th>\n",
              "      <th></th>\n",
              "      <th></th>\n",
              "      <th></th>\n",
              "      <th></th>\n",
              "      <th></th>\n",
              "      <th></th>\n",
              "      <th></th>\n",
              "      <th></th>\n",
              "      <th></th>\n",
              "      <th></th>\n",
              "      <th></th>\n",
              "      <th></th>\n",
              "      <th></th>\n",
              "      <th></th>\n",
              "      <th></th>\n",
              "    </tr>\n",
              "  </thead>\n",
              "  <tbody>\n",
              "    <tr>\n",
              "      <th>1</th>\n",
              "      <td>0</td>\n",
              "      <td>Andhra Pradesh</td>\n",
              "      <td>south</td>\n",
              "      <td>2</td>\n",
              "      <td>594</td>\n",
              "      <td>12747.0</td>\n",
              "      <td>507</td>\n",
              "      <td>328</td>\n",
              "      <td>668</td>\n",
              "      <td>29</td>\n",
              "      <td>154</td>\n",
              "      <td>1938</td>\n",
              "      <td>128</td>\n",
              "      <td>17286</td>\n",
              "      <td>40</td>\n",
              "      <td>667</td>\n",
              "      <td>325</td>\n",
              "      <td>1024</td>\n",
              "      <td>306</td>\n",
              "      <td>2868</td>\n",
              "    </tr>\n",
              "    <tr>\n",
              "      <th>2</th>\n",
              "      <td>1</td>\n",
              "      <td>Arunachal Pradesh</td>\n",
              "      <td>northeast</td>\n",
              "      <td>5</td>\n",
              "      <td>11</td>\n",
              "      <td>16.0</td>\n",
              "      <td>0</td>\n",
              "      <td>0</td>\n",
              "      <td>0</td>\n",
              "      <td>0</td>\n",
              "      <td>0</td>\n",
              "      <td>22</td>\n",
              "      <td>15</td>\n",
              "      <td>45</td>\n",
              "      <td>0</td>\n",
              "      <td>7</td>\n",
              "      <td>11</td>\n",
              "      <td>8</td>\n",
              "      <td>8</td>\n",
              "      <td>18</td>\n",
              "    </tr>\n",
              "    <tr>\n",
              "      <th>3</th>\n",
              "      <td>2</td>\n",
              "      <td>Assam</td>\n",
              "      <td>northeast</td>\n",
              "      <td>5</td>\n",
              "      <td>613</td>\n",
              "      <td>4596.0</td>\n",
              "      <td>129</td>\n",
              "      <td>104</td>\n",
              "      <td>156</td>\n",
              "      <td>7</td>\n",
              "      <td>3</td>\n",
              "      <td>628</td>\n",
              "      <td>352</td>\n",
              "      <td>3520</td>\n",
              "      <td>64</td>\n",
              "      <td>334</td>\n",
              "      <td>156</td>\n",
              "      <td>371</td>\n",
              "      <td>3</td>\n",
              "      <td>873</td>\n",
              "    </tr>\n",
              "    <tr>\n",
              "      <th>4</th>\n",
              "      <td>3</td>\n",
              "      <td>Bihar</td>\n",
              "      <td>north</td>\n",
              "      <td>1</td>\n",
              "      <td>1680</td>\n",
              "      <td>1496.0</td>\n",
              "      <td>278</td>\n",
              "      <td>236</td>\n",
              "      <td>308</td>\n",
              "      <td>7</td>\n",
              "      <td>72</td>\n",
              "      <td>439</td>\n",
              "      <td>593</td>\n",
              "      <td>2323</td>\n",
              "      <td>8</td>\n",
              "      <td>458</td>\n",
              "      <td>156</td>\n",
              "      <td>573</td>\n",
              "      <td>122</td>\n",
              "      <td>612</td>\n",
              "    </tr>\n",
              "    <tr>\n",
              "      <th>5</th>\n",
              "      <td>4</td>\n",
              "      <td>Chhattisgarh</td>\n",
              "      <td>centre</td>\n",
              "      <td>9</td>\n",
              "      <td>335</td>\n",
              "      <td>6720.0</td>\n",
              "      <td>188</td>\n",
              "      <td>313</td>\n",
              "      <td>266</td>\n",
              "      <td>10</td>\n",
              "      <td>81</td>\n",
              "      <td>520</td>\n",
              "      <td>145</td>\n",
              "      <td>6660</td>\n",
              "      <td>62</td>\n",
              "      <td>410</td>\n",
              "      <td>175</td>\n",
              "      <td>467</td>\n",
              "      <td>144</td>\n",
              "      <td>953</td>\n",
              "    </tr>\n",
              "  </tbody>\n",
              "</table>\n",
              "</div>\n",
              "      <button class=\"colab-df-convert\" onclick=\"convertToInteractive('df-c019d1c6-6830-4b0d-a80a-7e7cec536b62')\"\n",
              "              title=\"Convert this dataframe to an interactive table.\"\n",
              "              style=\"display:none;\">\n",
              "        \n",
              "  <svg xmlns=\"http://www.w3.org/2000/svg\" height=\"24px\"viewBox=\"0 0 24 24\"\n",
              "       width=\"24px\">\n",
              "    <path d=\"M0 0h24v24H0V0z\" fill=\"none\"/>\n",
              "    <path d=\"M18.56 5.44l.94 2.06.94-2.06 2.06-.94-2.06-.94-.94-2.06-.94 2.06-2.06.94zm-11 1L8.5 8.5l.94-2.06 2.06-.94-2.06-.94L8.5 2.5l-.94 2.06-2.06.94zm10 10l.94 2.06.94-2.06 2.06-.94-2.06-.94-.94-2.06-.94 2.06-2.06.94z\"/><path d=\"M17.41 7.96l-1.37-1.37c-.4-.4-.92-.59-1.43-.59-.52 0-1.04.2-1.43.59L10.3 9.45l-7.72 7.72c-.78.78-.78 2.05 0 2.83L4 21.41c.39.39.9.59 1.41.59.51 0 1.02-.2 1.41-.59l7.78-7.78 2.81-2.81c.8-.78.8-2.07 0-2.86zM5.41 20L4 18.59l7.72-7.72 1.47 1.35L5.41 20z\"/>\n",
              "  </svg>\n",
              "      </button>\n",
              "      \n",
              "  <style>\n",
              "    .colab-df-container {\n",
              "      display:flex;\n",
              "      flex-wrap:wrap;\n",
              "      gap: 12px;\n",
              "    }\n",
              "\n",
              "    .colab-df-convert {\n",
              "      background-color: #E8F0FE;\n",
              "      border: none;\n",
              "      border-radius: 50%;\n",
              "      cursor: pointer;\n",
              "      display: none;\n",
              "      fill: #1967D2;\n",
              "      height: 32px;\n",
              "      padding: 0 0 0 0;\n",
              "      width: 32px;\n",
              "    }\n",
              "\n",
              "    .colab-df-convert:hover {\n",
              "      background-color: #E2EBFA;\n",
              "      box-shadow: 0px 1px 2px rgba(60, 64, 67, 0.3), 0px 1px 3px 1px rgba(60, 64, 67, 0.15);\n",
              "      fill: #174EA6;\n",
              "    }\n",
              "\n",
              "    [theme=dark] .colab-df-convert {\n",
              "      background-color: #3B4455;\n",
              "      fill: #D2E3FC;\n",
              "    }\n",
              "\n",
              "    [theme=dark] .colab-df-convert:hover {\n",
              "      background-color: #434B5C;\n",
              "      box-shadow: 0px 1px 3px 1px rgba(0, 0, 0, 0.15);\n",
              "      filter: drop-shadow(0px 1px 2px rgba(0, 0, 0, 0.3));\n",
              "      fill: #FFFFFF;\n",
              "    }\n",
              "  </style>\n",
              "\n",
              "      <script>\n",
              "        const buttonEl =\n",
              "          document.querySelector('#df-c019d1c6-6830-4b0d-a80a-7e7cec536b62 button.colab-df-convert');\n",
              "        buttonEl.style.display =\n",
              "          google.colab.kernel.accessAllowed ? 'block' : 'none';\n",
              "\n",
              "        async function convertToInteractive(key) {\n",
              "          const element = document.querySelector('#df-c019d1c6-6830-4b0d-a80a-7e7cec536b62');\n",
              "          const dataTable =\n",
              "            await google.colab.kernel.invokeFunction('convertToInteractive',\n",
              "                                                     [key], {});\n",
              "          if (!dataTable) return;\n",
              "\n",
              "          const docLinkHtml = 'Like what you see? Visit the ' +\n",
              "            '<a target=\"_blank\" href=https://colab.research.google.com/notebooks/data_table.ipynb>data table notebook</a>'\n",
              "            + ' to learn more about interactive tables.';\n",
              "          element.innerHTML = '';\n",
              "          dataTable['output_type'] = 'display_data';\n",
              "          await google.colab.output.renderOutput(dataTable, element);\n",
              "          const docLink = document.createElement('div');\n",
              "          docLink.innerHTML = docLinkHtml;\n",
              "          element.appendChild(docLink);\n",
              "        }\n",
              "      </script>\n",
              "    </div>\n",
              "  </div>\n",
              "  "
            ]
          },
          "metadata": {},
          "execution_count": 56
        }
      ]
    },
    {
      "cell_type": "code",
      "source": [
        "# dropping the index column\n",
        "drivers.drop(labels=\"index\", axis=1, inplace=True)"
      ],
      "metadata": {
        "id": "xnp6qXVvw_Bl"
      },
      "execution_count": null,
      "outputs": []
    },
    {
      "cell_type": "code",
      "source": [
        "# checking for missing values\n",
        "drivers.isna().sum()"
      ],
      "metadata": {
        "colab": {
          "base_uri": "https://localhost:8080/"
        },
        "id": "KTp3bOCBxXkC",
        "outputId": "7e78087c-f1dc-4090-9491-fbef61330cd9"
      },
      "execution_count": null,
      "outputs": [
        {
          "output_type": "execute_result",
          "data": {
            "text/plain": [
              "stateut            0\n",
              "region             0\n",
              "regionid           0\n",
              "alcintake2014      0\n",
              "overspeed2014      1\n",
              "overtaking2014     0\n",
              "lanejumping2014    0\n",
              "wrongside2014      0\n",
              "signalavoid2014    0\n",
              "asleep2014         0\n",
              "othercause2014     0\n",
              "alcintake2016      0\n",
              "overspeed2016      0\n",
              "signalavoid2016    0\n",
              "wrongside2016      0\n",
              "lanejumping2016    0\n",
              "overtaking2016     0\n",
              "asleep2016         0\n",
              "othercause2016     0\n",
              "dtype: int64"
            ]
          },
          "metadata": {},
          "execution_count": 58
        }
      ]
    },
    {
      "cell_type": "code",
      "source": [
        "# replacing the missing value in column 'overspeed2014' with the average value of that column\n",
        "drivers['overspeed2014'].fillna(np.mean(drivers['overspeed2014']), inplace=True)\n",
        "drivers.isna().sum()"
      ],
      "metadata": {
        "colab": {
          "base_uri": "https://localhost:8080/"
        },
        "id": "7F-NuaEGyLba",
        "outputId": "ef23239a-3f9a-4022-e8e8-00853654fb6f"
      },
      "execution_count": null,
      "outputs": [
        {
          "output_type": "execute_result",
          "data": {
            "text/plain": [
              "stateut            0\n",
              "region             0\n",
              "regionid           0\n",
              "alcintake2014      0\n",
              "overspeed2014      0\n",
              "overtaking2014     0\n",
              "lanejumping2014    0\n",
              "wrongside2014      0\n",
              "signalavoid2014    0\n",
              "asleep2014         0\n",
              "othercause2014     0\n",
              "alcintake2016      0\n",
              "overspeed2016      0\n",
              "signalavoid2016    0\n",
              "wrongside2016      0\n",
              "lanejumping2016    0\n",
              "overtaking2016     0\n",
              "asleep2016         0\n",
              "othercause2016     0\n",
              "dtype: int64"
            ]
          },
          "metadata": {},
          "execution_count": 59
        }
      ]
    },
    {
      "cell_type": "code",
      "source": [
        "drivers.info()"
      ],
      "metadata": {
        "colab": {
          "base_uri": "https://localhost:8080/"
        },
        "id": "Zy20-X0SysJf",
        "outputId": "53401e3c-f460-4f5a-83e8-e2b73f3c2b4d"
      },
      "execution_count": null,
      "outputs": [
        {
          "output_type": "stream",
          "name": "stdout",
          "text": [
            "<class 'pandas.core.frame.DataFrame'>\n",
            "Int64Index: 36 entries, 1 to 36\n",
            "Data columns (total 19 columns):\n",
            " #   Column           Non-Null Count  Dtype  \n",
            "---  ------           --------------  -----  \n",
            " 0   stateut          36 non-null     object \n",
            " 1   region           36 non-null     object \n",
            " 2   regionid         36 non-null     int64  \n",
            " 3   alcintake2014    36 non-null     int64  \n",
            " 4   overspeed2014    36 non-null     float64\n",
            " 5   overtaking2014   36 non-null     int64  \n",
            " 6   lanejumping2014  36 non-null     int64  \n",
            " 7   wrongside2014    36 non-null     int64  \n",
            " 8   signalavoid2014  36 non-null     int64  \n",
            " 9   asleep2014       36 non-null     int64  \n",
            " 10  othercause2014   36 non-null     int64  \n",
            " 11  alcintake2016    36 non-null     int64  \n",
            " 12  overspeed2016    36 non-null     int64  \n",
            " 13  signalavoid2016  36 non-null     int64  \n",
            " 14  wrongside2016    36 non-null     int64  \n",
            " 15  lanejumping2016  36 non-null     int64  \n",
            " 16  overtaking2016   36 non-null     int64  \n",
            " 17  asleep2016       36 non-null     int64  \n",
            " 18  othercause2016   36 non-null     int64  \n",
            "dtypes: float64(1), int64(16), object(2)\n",
            "memory usage: 5.6+ KB\n"
          ]
        }
      ]
    },
    {
      "cell_type": "code",
      "source": [
        "drivers.describe()"
      ],
      "metadata": {
        "colab": {
          "base_uri": "https://localhost:8080/",
          "height": 364
        },
        "id": "VdVxOD14zhuG",
        "outputId": "22f8b257-a668-4d05-f0de-abeec40db6e7"
      },
      "execution_count": null,
      "outputs": [
        {
          "output_type": "execute_result",
          "data": {
            "text/plain": [
              "        regionid  alcintake2014  overspeed2014  overtaking2014  \\\n",
              "count  36.000000      36.000000       36.00000       36.000000   \n",
              "mean    4.000000     525.444444     5950.60000      312.833333   \n",
              "std     2.746426     767.133866     8552.86602      514.513279   \n",
              "min     1.000000       0.000000        0.00000        0.000000   \n",
              "25%     1.750000      11.750000       83.25000        1.500000   \n",
              "50%     4.000000      82.500000     2662.00000       75.500000   \n",
              "75%     5.000000     706.500000     6379.50000      350.000000   \n",
              "max     9.000000    3540.000000    29790.00000     2171.000000   \n",
              "\n",
              "       lanejumping2014  wrongside2014  signalavoid2014   asleep2014  \\\n",
              "count        36.000000      36.000000        36.000000    36.000000   \n",
              "mean        283.361111     302.000000        37.000000    92.027778   \n",
              "std         462.370115     389.184642        81.196411   234.019472   \n",
              "min           0.000000       0.000000         0.000000     0.000000   \n",
              "25%           0.000000       6.250000         0.000000     0.000000   \n",
              "50%          86.500000     113.000000         4.500000     5.000000   \n",
              "75%         316.750000     531.750000        34.500000   133.000000   \n",
              "max        1869.000000    1529.000000       451.000000  1393.000000   \n",
              "\n",
              "       othercause2014  alcintake2016  overspeed2016  signalavoid2016  \\\n",
              "count       36.000000      36.000000      36.000000        36.000000   \n",
              "mean      1007.944444     413.722222    7453.916667       124.750000   \n",
              "std       1780.826436     907.754202   11689.392631       225.198246   \n",
              "min          0.000000       0.000000       0.000000         0.000000   \n",
              "25%         19.000000      24.000000     140.500000         0.000000   \n",
              "50%        156.000000     105.000000    2009.500000         9.500000   \n",
              "75%        810.000000     412.500000   10966.500000       117.750000   \n",
              "max       6874.000000    4633.000000   47055.000000      1004.000000   \n",
              "\n",
              "       wrongside2016  lanejumping2016  overtaking2016   asleep2016  \\\n",
              "count      36.000000        36.000000       36.000000    36.000000   \n",
              "mean      490.388889       236.472222      823.527778   126.444444   \n",
              "std       754.259534       454.375457     1477.494162   248.883501   \n",
              "min         0.000000         0.000000        0.000000     0.000000   \n",
              "25%        16.500000         0.000000       16.500000     0.000000   \n",
              "50%       118.000000        65.500000      175.000000     7.500000   \n",
              "75%       683.500000       199.750000     1020.250000   127.500000   \n",
              "max      3209.000000      2367.000000     7155.000000  1121.000000   \n",
              "\n",
              "       othercause2016  \n",
              "count       36.000000  \n",
              "mean      1403.611111  \n",
              "std       1927.404966  \n",
              "min          0.000000  \n",
              "25%         24.750000  \n",
              "50%        555.000000  \n",
              "75%       1753.500000  \n",
              "max       6915.000000  "
            ],
            "text/html": [
              "\n",
              "  <div id=\"df-809a6fd5-6da0-43c3-8be5-1c078f6a9542\">\n",
              "    <div class=\"colab-df-container\">\n",
              "      <div>\n",
              "<style scoped>\n",
              "    .dataframe tbody tr th:only-of-type {\n",
              "        vertical-align: middle;\n",
              "    }\n",
              "\n",
              "    .dataframe tbody tr th {\n",
              "        vertical-align: top;\n",
              "    }\n",
              "\n",
              "    .dataframe thead th {\n",
              "        text-align: right;\n",
              "    }\n",
              "</style>\n",
              "<table border=\"1\" class=\"dataframe\">\n",
              "  <thead>\n",
              "    <tr style=\"text-align: right;\">\n",
              "      <th></th>\n",
              "      <th>regionid</th>\n",
              "      <th>alcintake2014</th>\n",
              "      <th>overspeed2014</th>\n",
              "      <th>overtaking2014</th>\n",
              "      <th>lanejumping2014</th>\n",
              "      <th>wrongside2014</th>\n",
              "      <th>signalavoid2014</th>\n",
              "      <th>asleep2014</th>\n",
              "      <th>othercause2014</th>\n",
              "      <th>alcintake2016</th>\n",
              "      <th>overspeed2016</th>\n",
              "      <th>signalavoid2016</th>\n",
              "      <th>wrongside2016</th>\n",
              "      <th>lanejumping2016</th>\n",
              "      <th>overtaking2016</th>\n",
              "      <th>asleep2016</th>\n",
              "      <th>othercause2016</th>\n",
              "    </tr>\n",
              "  </thead>\n",
              "  <tbody>\n",
              "    <tr>\n",
              "      <th>count</th>\n",
              "      <td>36.000000</td>\n",
              "      <td>36.000000</td>\n",
              "      <td>36.00000</td>\n",
              "      <td>36.000000</td>\n",
              "      <td>36.000000</td>\n",
              "      <td>36.000000</td>\n",
              "      <td>36.000000</td>\n",
              "      <td>36.000000</td>\n",
              "      <td>36.000000</td>\n",
              "      <td>36.000000</td>\n",
              "      <td>36.000000</td>\n",
              "      <td>36.000000</td>\n",
              "      <td>36.000000</td>\n",
              "      <td>36.000000</td>\n",
              "      <td>36.000000</td>\n",
              "      <td>36.000000</td>\n",
              "      <td>36.000000</td>\n",
              "    </tr>\n",
              "    <tr>\n",
              "      <th>mean</th>\n",
              "      <td>4.000000</td>\n",
              "      <td>525.444444</td>\n",
              "      <td>5950.60000</td>\n",
              "      <td>312.833333</td>\n",
              "      <td>283.361111</td>\n",
              "      <td>302.000000</td>\n",
              "      <td>37.000000</td>\n",
              "      <td>92.027778</td>\n",
              "      <td>1007.944444</td>\n",
              "      <td>413.722222</td>\n",
              "      <td>7453.916667</td>\n",
              "      <td>124.750000</td>\n",
              "      <td>490.388889</td>\n",
              "      <td>236.472222</td>\n",
              "      <td>823.527778</td>\n",
              "      <td>126.444444</td>\n",
              "      <td>1403.611111</td>\n",
              "    </tr>\n",
              "    <tr>\n",
              "      <th>std</th>\n",
              "      <td>2.746426</td>\n",
              "      <td>767.133866</td>\n",
              "      <td>8552.86602</td>\n",
              "      <td>514.513279</td>\n",
              "      <td>462.370115</td>\n",
              "      <td>389.184642</td>\n",
              "      <td>81.196411</td>\n",
              "      <td>234.019472</td>\n",
              "      <td>1780.826436</td>\n",
              "      <td>907.754202</td>\n",
              "      <td>11689.392631</td>\n",
              "      <td>225.198246</td>\n",
              "      <td>754.259534</td>\n",
              "      <td>454.375457</td>\n",
              "      <td>1477.494162</td>\n",
              "      <td>248.883501</td>\n",
              "      <td>1927.404966</td>\n",
              "    </tr>\n",
              "    <tr>\n",
              "      <th>min</th>\n",
              "      <td>1.000000</td>\n",
              "      <td>0.000000</td>\n",
              "      <td>0.00000</td>\n",
              "      <td>0.000000</td>\n",
              "      <td>0.000000</td>\n",
              "      <td>0.000000</td>\n",
              "      <td>0.000000</td>\n",
              "      <td>0.000000</td>\n",
              "      <td>0.000000</td>\n",
              "      <td>0.000000</td>\n",
              "      <td>0.000000</td>\n",
              "      <td>0.000000</td>\n",
              "      <td>0.000000</td>\n",
              "      <td>0.000000</td>\n",
              "      <td>0.000000</td>\n",
              "      <td>0.000000</td>\n",
              "      <td>0.000000</td>\n",
              "    </tr>\n",
              "    <tr>\n",
              "      <th>25%</th>\n",
              "      <td>1.750000</td>\n",
              "      <td>11.750000</td>\n",
              "      <td>83.25000</td>\n",
              "      <td>1.500000</td>\n",
              "      <td>0.000000</td>\n",
              "      <td>6.250000</td>\n",
              "      <td>0.000000</td>\n",
              "      <td>0.000000</td>\n",
              "      <td>19.000000</td>\n",
              "      <td>24.000000</td>\n",
              "      <td>140.500000</td>\n",
              "      <td>0.000000</td>\n",
              "      <td>16.500000</td>\n",
              "      <td>0.000000</td>\n",
              "      <td>16.500000</td>\n",
              "      <td>0.000000</td>\n",
              "      <td>24.750000</td>\n",
              "    </tr>\n",
              "    <tr>\n",
              "      <th>50%</th>\n",
              "      <td>4.000000</td>\n",
              "      <td>82.500000</td>\n",
              "      <td>2662.00000</td>\n",
              "      <td>75.500000</td>\n",
              "      <td>86.500000</td>\n",
              "      <td>113.000000</td>\n",
              "      <td>4.500000</td>\n",
              "      <td>5.000000</td>\n",
              "      <td>156.000000</td>\n",
              "      <td>105.000000</td>\n",
              "      <td>2009.500000</td>\n",
              "      <td>9.500000</td>\n",
              "      <td>118.000000</td>\n",
              "      <td>65.500000</td>\n",
              "      <td>175.000000</td>\n",
              "      <td>7.500000</td>\n",
              "      <td>555.000000</td>\n",
              "    </tr>\n",
              "    <tr>\n",
              "      <th>75%</th>\n",
              "      <td>5.000000</td>\n",
              "      <td>706.500000</td>\n",
              "      <td>6379.50000</td>\n",
              "      <td>350.000000</td>\n",
              "      <td>316.750000</td>\n",
              "      <td>531.750000</td>\n",
              "      <td>34.500000</td>\n",
              "      <td>133.000000</td>\n",
              "      <td>810.000000</td>\n",
              "      <td>412.500000</td>\n",
              "      <td>10966.500000</td>\n",
              "      <td>117.750000</td>\n",
              "      <td>683.500000</td>\n",
              "      <td>199.750000</td>\n",
              "      <td>1020.250000</td>\n",
              "      <td>127.500000</td>\n",
              "      <td>1753.500000</td>\n",
              "    </tr>\n",
              "    <tr>\n",
              "      <th>max</th>\n",
              "      <td>9.000000</td>\n",
              "      <td>3540.000000</td>\n",
              "      <td>29790.00000</td>\n",
              "      <td>2171.000000</td>\n",
              "      <td>1869.000000</td>\n",
              "      <td>1529.000000</td>\n",
              "      <td>451.000000</td>\n",
              "      <td>1393.000000</td>\n",
              "      <td>6874.000000</td>\n",
              "      <td>4633.000000</td>\n",
              "      <td>47055.000000</td>\n",
              "      <td>1004.000000</td>\n",
              "      <td>3209.000000</td>\n",
              "      <td>2367.000000</td>\n",
              "      <td>7155.000000</td>\n",
              "      <td>1121.000000</td>\n",
              "      <td>6915.000000</td>\n",
              "    </tr>\n",
              "  </tbody>\n",
              "</table>\n",
              "</div>\n",
              "      <button class=\"colab-df-convert\" onclick=\"convertToInteractive('df-809a6fd5-6da0-43c3-8be5-1c078f6a9542')\"\n",
              "              title=\"Convert this dataframe to an interactive table.\"\n",
              "              style=\"display:none;\">\n",
              "        \n",
              "  <svg xmlns=\"http://www.w3.org/2000/svg\" height=\"24px\"viewBox=\"0 0 24 24\"\n",
              "       width=\"24px\">\n",
              "    <path d=\"M0 0h24v24H0V0z\" fill=\"none\"/>\n",
              "    <path d=\"M18.56 5.44l.94 2.06.94-2.06 2.06-.94-2.06-.94-.94-2.06-.94 2.06-2.06.94zm-11 1L8.5 8.5l.94-2.06 2.06-.94-2.06-.94L8.5 2.5l-.94 2.06-2.06.94zm10 10l.94 2.06.94-2.06 2.06-.94-2.06-.94-.94-2.06-.94 2.06-2.06.94z\"/><path d=\"M17.41 7.96l-1.37-1.37c-.4-.4-.92-.59-1.43-.59-.52 0-1.04.2-1.43.59L10.3 9.45l-7.72 7.72c-.78.78-.78 2.05 0 2.83L4 21.41c.39.39.9.59 1.41.59.51 0 1.02-.2 1.41-.59l7.78-7.78 2.81-2.81c.8-.78.8-2.07 0-2.86zM5.41 20L4 18.59l7.72-7.72 1.47 1.35L5.41 20z\"/>\n",
              "  </svg>\n",
              "      </button>\n",
              "      \n",
              "  <style>\n",
              "    .colab-df-container {\n",
              "      display:flex;\n",
              "      flex-wrap:wrap;\n",
              "      gap: 12px;\n",
              "    }\n",
              "\n",
              "    .colab-df-convert {\n",
              "      background-color: #E8F0FE;\n",
              "      border: none;\n",
              "      border-radius: 50%;\n",
              "      cursor: pointer;\n",
              "      display: none;\n",
              "      fill: #1967D2;\n",
              "      height: 32px;\n",
              "      padding: 0 0 0 0;\n",
              "      width: 32px;\n",
              "    }\n",
              "\n",
              "    .colab-df-convert:hover {\n",
              "      background-color: #E2EBFA;\n",
              "      box-shadow: 0px 1px 2px rgba(60, 64, 67, 0.3), 0px 1px 3px 1px rgba(60, 64, 67, 0.15);\n",
              "      fill: #174EA6;\n",
              "    }\n",
              "\n",
              "    [theme=dark] .colab-df-convert {\n",
              "      background-color: #3B4455;\n",
              "      fill: #D2E3FC;\n",
              "    }\n",
              "\n",
              "    [theme=dark] .colab-df-convert:hover {\n",
              "      background-color: #434B5C;\n",
              "      box-shadow: 0px 1px 3px 1px rgba(0, 0, 0, 0.15);\n",
              "      filter: drop-shadow(0px 1px 2px rgba(0, 0, 0, 0.3));\n",
              "      fill: #FFFFFF;\n",
              "    }\n",
              "  </style>\n",
              "\n",
              "      <script>\n",
              "        const buttonEl =\n",
              "          document.querySelector('#df-809a6fd5-6da0-43c3-8be5-1c078f6a9542 button.colab-df-convert');\n",
              "        buttonEl.style.display =\n",
              "          google.colab.kernel.accessAllowed ? 'block' : 'none';\n",
              "\n",
              "        async function convertToInteractive(key) {\n",
              "          const element = document.querySelector('#df-809a6fd5-6da0-43c3-8be5-1c078f6a9542');\n",
              "          const dataTable =\n",
              "            await google.colab.kernel.invokeFunction('convertToInteractive',\n",
              "                                                     [key], {});\n",
              "          if (!dataTable) return;\n",
              "\n",
              "          const docLinkHtml = 'Like what you see? Visit the ' +\n",
              "            '<a target=\"_blank\" href=https://colab.research.google.com/notebooks/data_table.ipynb>data table notebook</a>'\n",
              "            + ' to learn more about interactive tables.';\n",
              "          element.innerHTML = '';\n",
              "          dataTable['output_type'] = 'display_data';\n",
              "          await google.colab.output.renderOutput(dataTable, element);\n",
              "          const docLink = document.createElement('div');\n",
              "          docLink.innerHTML = docLinkHtml;\n",
              "          element.appendChild(docLink);\n",
              "        }\n",
              "      </script>\n",
              "    </div>\n",
              "  </div>\n",
              "  "
            ]
          },
          "metadata": {},
          "execution_count": 61
        }
      ]
    },
    {
      "cell_type": "code",
      "source": [
        "# Let's view our categrical columns\n",
        "category_col = drivers.select_dtypes(include=['object', 'category']).columns\n",
        "print(category_col)"
      ],
      "metadata": {
        "colab": {
          "base_uri": "https://localhost:8080/"
        },
        "id": "b4Jc9SNCzlQz",
        "outputId": "a801c4f0-d444-429a-8a2f-5ef245c653bb"
      },
      "execution_count": null,
      "outputs": [
        {
          "output_type": "stream",
          "name": "stdout",
          "text": [
            "Index(['stateut', 'region'], dtype='object')\n"
          ]
        }
      ]
    },
    {
      "cell_type": "code",
      "source": [
        "drivers['stateut'].unique(), drivers['region'].unique(), drivers['regionid'].unique()"
      ],
      "metadata": {
        "colab": {
          "base_uri": "https://localhost:8080/"
        },
        "id": "W_OB6gMizuoY",
        "outputId": "2bcacda8-95dd-4b8a-835b-8f18db1fea93"
      },
      "execution_count": null,
      "outputs": [
        {
          "output_type": "execute_result",
          "data": {
            "text/plain": [
              "(array(['Andhra Pradesh', 'Arunachal Pradesh', 'Assam', 'Bihar',\n",
              "        'Chhattisgarh', 'Goa', 'Gujarat', 'Haryana', 'Himachal Pradesh',\n",
              "        'Jammu & Kashmir', 'Jharkhand', 'Karnataka', 'Kerala',\n",
              "        'Madhya Pradesh', 'Maharashtra', 'Manipur', 'Meghalaya', 'Mizoram',\n",
              "        'Nagaland', 'Orissa', 'Punjab', 'Rajasthan', 'Sikkim',\n",
              "        'Tamil Nadu', 'Telangana', 'Tripura', 'Uttarakhand',\n",
              "        'Uttar Pradesh', 'West Bengal', 'A & N Islands', 'Chandigarh',\n",
              "        'D & N Haveli', 'Daman & Diu', 'Delhi', 'Lakshadweep',\n",
              "        'Puducherry'], dtype=object),\n",
              " array(['south', 'northeast', 'north', 'centre', 'west', 'east',\n",
              "        'northwest', 'southeast', 'southwest'], dtype=object),\n",
              " array([2, 5, 1, 9, 4, 3, 6, 7, 8]))"
            ]
          },
          "metadata": {},
          "execution_count": 63
        }
      ]
    },
    {
      "cell_type": "code",
      "source": [
        "# Let's view our numerical columns\n",
        "numerical_col = [col for col in drivers.columns if col not in category_col]\n",
        "print(numerical_col)"
      ],
      "metadata": {
        "colab": {
          "base_uri": "https://localhost:8080/"
        },
        "id": "Ge1h3A5x09MY",
        "outputId": "311fdde1-8ea1-48b0-bf6b-ce87734eaec9"
      },
      "execution_count": null,
      "outputs": [
        {
          "output_type": "stream",
          "name": "stdout",
          "text": [
            "['regionid', 'alcintake2014', 'overspeed2014', 'overtaking2014', 'lanejumping2014', 'wrongside2014', 'signalavoid2014', 'asleep2014', 'othercause2014', 'alcintake2016', 'overspeed2016', 'signalavoid2016', 'wrongside2016', 'lanejumping2016', 'overtaking2016', 'asleep2016', 'othercause2016']\n"
          ]
        }
      ]
    },
    {
      "cell_type": "code",
      "source": [
        "drivers.groupby(['region']).sum()"
      ],
      "metadata": {
        "colab": {
          "base_uri": "https://localhost:8080/",
          "height": 427
        },
        "id": "iO50Ncr-1dDl",
        "outputId": "f0633b63-dd68-4802-9d00-fc92757fc03b"
      },
      "execution_count": null,
      "outputs": [
        {
          "output_type": "execute_result",
          "data": {
            "text/plain": [
              "           regionid  alcintake2014  overspeed2014  overtaking2014  \\\n",
              "region                                                              \n",
              "centre           45           6091        39279.0            2283   \n",
              "east              9             28         3886.0             281   \n",
              "north             9           5481        22321.6            1122   \n",
              "northeast        30            748         4731.0             129   \n",
              "northwest         6            915        11395.0             102   \n",
              "south            10           4325        85782.0            4975   \n",
              "southeast         7             25           94.0               7   \n",
              "southwest         8              0            1.0               0   \n",
              "west             20           1303        46732.0            2363   \n",
              "\n",
              "           lanejumping2014  wrongside2014  signalavoid2014  asleep2014  \\\n",
              "region                                                                   \n",
              "centre                2506           2508              234         491   \n",
              "east                   186            235              107          49   \n",
              "north                 1121           1808              239         498   \n",
              "northeast              104            182                7           3   \n",
              "northwest             1157            656                2         176   \n",
              "south                 3830           4220              683        1868   \n",
              "southeast               20             11                0           0   \n",
              "southwest                0              0                0           0   \n",
              "west                  1277           1252               60         228   \n",
              "\n",
              "           othercause2014  alcintake2016  overspeed2016  signalavoid2016  \\\n",
              "region                                                                     \n",
              "centre               9066           5228          53928              639   \n",
              "east                 1384            494           1900               90   \n",
              "north                3193           6404          23124             1651   \n",
              "northeast             771            498           3824               64   \n",
              "northwest            1803            673          13358                0   \n",
              "south               14015           1270         131206             1687   \n",
              "southeast               0             27            124                2   \n",
              "southwest               0              0              0                0   \n",
              "west                 6054            300          40877              358   \n",
              "\n",
              "           wrongside2016  lanejumping2016  overtaking2016  asleep2016  \\\n",
              "region                                                                  \n",
              "centre              2600             1167            6446         919   \n",
              "east                 110               53             184          29   \n",
              "north               4731             2377            6785        1722   \n",
              "northeast            400              167             442          41   \n",
              "northwest            981              217            1345         222   \n",
              "south               6120             3105           11444        1078   \n",
              "southeast             31                0              15           0   \n",
              "southwest              0                0               0           0   \n",
              "west                2681             1427            2986         541   \n",
              "\n",
              "           othercause2016  \n",
              "region                     \n",
              "centre               8218  \n",
              "east                 6954  \n",
              "north               11353  \n",
              "northeast             957  \n",
              "northwest            5012  \n",
              "south               12932  \n",
              "southeast              39  \n",
              "southwest               0  \n",
              "west                 5065  "
            ],
            "text/html": [
              "\n",
              "  <div id=\"df-22a9c314-91e9-4451-93ae-ffe0ae36143c\">\n",
              "    <div class=\"colab-df-container\">\n",
              "      <div>\n",
              "<style scoped>\n",
              "    .dataframe tbody tr th:only-of-type {\n",
              "        vertical-align: middle;\n",
              "    }\n",
              "\n",
              "    .dataframe tbody tr th {\n",
              "        vertical-align: top;\n",
              "    }\n",
              "\n",
              "    .dataframe thead th {\n",
              "        text-align: right;\n",
              "    }\n",
              "</style>\n",
              "<table border=\"1\" class=\"dataframe\">\n",
              "  <thead>\n",
              "    <tr style=\"text-align: right;\">\n",
              "      <th></th>\n",
              "      <th>regionid</th>\n",
              "      <th>alcintake2014</th>\n",
              "      <th>overspeed2014</th>\n",
              "      <th>overtaking2014</th>\n",
              "      <th>lanejumping2014</th>\n",
              "      <th>wrongside2014</th>\n",
              "      <th>signalavoid2014</th>\n",
              "      <th>asleep2014</th>\n",
              "      <th>othercause2014</th>\n",
              "      <th>alcintake2016</th>\n",
              "      <th>overspeed2016</th>\n",
              "      <th>signalavoid2016</th>\n",
              "      <th>wrongside2016</th>\n",
              "      <th>lanejumping2016</th>\n",
              "      <th>overtaking2016</th>\n",
              "      <th>asleep2016</th>\n",
              "      <th>othercause2016</th>\n",
              "    </tr>\n",
              "    <tr>\n",
              "      <th>region</th>\n",
              "      <th></th>\n",
              "      <th></th>\n",
              "      <th></th>\n",
              "      <th></th>\n",
              "      <th></th>\n",
              "      <th></th>\n",
              "      <th></th>\n",
              "      <th></th>\n",
              "      <th></th>\n",
              "      <th></th>\n",
              "      <th></th>\n",
              "      <th></th>\n",
              "      <th></th>\n",
              "      <th></th>\n",
              "      <th></th>\n",
              "      <th></th>\n",
              "      <th></th>\n",
              "    </tr>\n",
              "  </thead>\n",
              "  <tbody>\n",
              "    <tr>\n",
              "      <th>centre</th>\n",
              "      <td>45</td>\n",
              "      <td>6091</td>\n",
              "      <td>39279.0</td>\n",
              "      <td>2283</td>\n",
              "      <td>2506</td>\n",
              "      <td>2508</td>\n",
              "      <td>234</td>\n",
              "      <td>491</td>\n",
              "      <td>9066</td>\n",
              "      <td>5228</td>\n",
              "      <td>53928</td>\n",
              "      <td>639</td>\n",
              "      <td>2600</td>\n",
              "      <td>1167</td>\n",
              "      <td>6446</td>\n",
              "      <td>919</td>\n",
              "      <td>8218</td>\n",
              "    </tr>\n",
              "    <tr>\n",
              "      <th>east</th>\n",
              "      <td>9</td>\n",
              "      <td>28</td>\n",
              "      <td>3886.0</td>\n",
              "      <td>281</td>\n",
              "      <td>186</td>\n",
              "      <td>235</td>\n",
              "      <td>107</td>\n",
              "      <td>49</td>\n",
              "      <td>1384</td>\n",
              "      <td>494</td>\n",
              "      <td>1900</td>\n",
              "      <td>90</td>\n",
              "      <td>110</td>\n",
              "      <td>53</td>\n",
              "      <td>184</td>\n",
              "      <td>29</td>\n",
              "      <td>6954</td>\n",
              "    </tr>\n",
              "    <tr>\n",
              "      <th>north</th>\n",
              "      <td>9</td>\n",
              "      <td>5481</td>\n",
              "      <td>22321.6</td>\n",
              "      <td>1122</td>\n",
              "      <td>1121</td>\n",
              "      <td>1808</td>\n",
              "      <td>239</td>\n",
              "      <td>498</td>\n",
              "      <td>3193</td>\n",
              "      <td>6404</td>\n",
              "      <td>23124</td>\n",
              "      <td>1651</td>\n",
              "      <td>4731</td>\n",
              "      <td>2377</td>\n",
              "      <td>6785</td>\n",
              "      <td>1722</td>\n",
              "      <td>11353</td>\n",
              "    </tr>\n",
              "    <tr>\n",
              "      <th>northeast</th>\n",
              "      <td>30</td>\n",
              "      <td>748</td>\n",
              "      <td>4731.0</td>\n",
              "      <td>129</td>\n",
              "      <td>104</td>\n",
              "      <td>182</td>\n",
              "      <td>7</td>\n",
              "      <td>3</td>\n",
              "      <td>771</td>\n",
              "      <td>498</td>\n",
              "      <td>3824</td>\n",
              "      <td>64</td>\n",
              "      <td>400</td>\n",
              "      <td>167</td>\n",
              "      <td>442</td>\n",
              "      <td>41</td>\n",
              "      <td>957</td>\n",
              "    </tr>\n",
              "    <tr>\n",
              "      <th>northwest</th>\n",
              "      <td>6</td>\n",
              "      <td>915</td>\n",
              "      <td>11395.0</td>\n",
              "      <td>102</td>\n",
              "      <td>1157</td>\n",
              "      <td>656</td>\n",
              "      <td>2</td>\n",
              "      <td>176</td>\n",
              "      <td>1803</td>\n",
              "      <td>673</td>\n",
              "      <td>13358</td>\n",
              "      <td>0</td>\n",
              "      <td>981</td>\n",
              "      <td>217</td>\n",
              "      <td>1345</td>\n",
              "      <td>222</td>\n",
              "      <td>5012</td>\n",
              "    </tr>\n",
              "    <tr>\n",
              "      <th>south</th>\n",
              "      <td>10</td>\n",
              "      <td>4325</td>\n",
              "      <td>85782.0</td>\n",
              "      <td>4975</td>\n",
              "      <td>3830</td>\n",
              "      <td>4220</td>\n",
              "      <td>683</td>\n",
              "      <td>1868</td>\n",
              "      <td>14015</td>\n",
              "      <td>1270</td>\n",
              "      <td>131206</td>\n",
              "      <td>1687</td>\n",
              "      <td>6120</td>\n",
              "      <td>3105</td>\n",
              "      <td>11444</td>\n",
              "      <td>1078</td>\n",
              "      <td>12932</td>\n",
              "    </tr>\n",
              "    <tr>\n",
              "      <th>southeast</th>\n",
              "      <td>7</td>\n",
              "      <td>25</td>\n",
              "      <td>94.0</td>\n",
              "      <td>7</td>\n",
              "      <td>20</td>\n",
              "      <td>11</td>\n",
              "      <td>0</td>\n",
              "      <td>0</td>\n",
              "      <td>0</td>\n",
              "      <td>27</td>\n",
              "      <td>124</td>\n",
              "      <td>2</td>\n",
              "      <td>31</td>\n",
              "      <td>0</td>\n",
              "      <td>15</td>\n",
              "      <td>0</td>\n",
              "      <td>39</td>\n",
              "    </tr>\n",
              "    <tr>\n",
              "      <th>southwest</th>\n",
              "      <td>8</td>\n",
              "      <td>0</td>\n",
              "      <td>1.0</td>\n",
              "      <td>0</td>\n",
              "      <td>0</td>\n",
              "      <td>0</td>\n",
              "      <td>0</td>\n",
              "      <td>0</td>\n",
              "      <td>0</td>\n",
              "      <td>0</td>\n",
              "      <td>0</td>\n",
              "      <td>0</td>\n",
              "      <td>0</td>\n",
              "      <td>0</td>\n",
              "      <td>0</td>\n",
              "      <td>0</td>\n",
              "      <td>0</td>\n",
              "    </tr>\n",
              "    <tr>\n",
              "      <th>west</th>\n",
              "      <td>20</td>\n",
              "      <td>1303</td>\n",
              "      <td>46732.0</td>\n",
              "      <td>2363</td>\n",
              "      <td>1277</td>\n",
              "      <td>1252</td>\n",
              "      <td>60</td>\n",
              "      <td>228</td>\n",
              "      <td>6054</td>\n",
              "      <td>300</td>\n",
              "      <td>40877</td>\n",
              "      <td>358</td>\n",
              "      <td>2681</td>\n",
              "      <td>1427</td>\n",
              "      <td>2986</td>\n",
              "      <td>541</td>\n",
              "      <td>5065</td>\n",
              "    </tr>\n",
              "  </tbody>\n",
              "</table>\n",
              "</div>\n",
              "      <button class=\"colab-df-convert\" onclick=\"convertToInteractive('df-22a9c314-91e9-4451-93ae-ffe0ae36143c')\"\n",
              "              title=\"Convert this dataframe to an interactive table.\"\n",
              "              style=\"display:none;\">\n",
              "        \n",
              "  <svg xmlns=\"http://www.w3.org/2000/svg\" height=\"24px\"viewBox=\"0 0 24 24\"\n",
              "       width=\"24px\">\n",
              "    <path d=\"M0 0h24v24H0V0z\" fill=\"none\"/>\n",
              "    <path d=\"M18.56 5.44l.94 2.06.94-2.06 2.06-.94-2.06-.94-.94-2.06-.94 2.06-2.06.94zm-11 1L8.5 8.5l.94-2.06 2.06-.94-2.06-.94L8.5 2.5l-.94 2.06-2.06.94zm10 10l.94 2.06.94-2.06 2.06-.94-2.06-.94-.94-2.06-.94 2.06-2.06.94z\"/><path d=\"M17.41 7.96l-1.37-1.37c-.4-.4-.92-.59-1.43-.59-.52 0-1.04.2-1.43.59L10.3 9.45l-7.72 7.72c-.78.78-.78 2.05 0 2.83L4 21.41c.39.39.9.59 1.41.59.51 0 1.02-.2 1.41-.59l7.78-7.78 2.81-2.81c.8-.78.8-2.07 0-2.86zM5.41 20L4 18.59l7.72-7.72 1.47 1.35L5.41 20z\"/>\n",
              "  </svg>\n",
              "      </button>\n",
              "      \n",
              "  <style>\n",
              "    .colab-df-container {\n",
              "      display:flex;\n",
              "      flex-wrap:wrap;\n",
              "      gap: 12px;\n",
              "    }\n",
              "\n",
              "    .colab-df-convert {\n",
              "      background-color: #E8F0FE;\n",
              "      border: none;\n",
              "      border-radius: 50%;\n",
              "      cursor: pointer;\n",
              "      display: none;\n",
              "      fill: #1967D2;\n",
              "      height: 32px;\n",
              "      padding: 0 0 0 0;\n",
              "      width: 32px;\n",
              "    }\n",
              "\n",
              "    .colab-df-convert:hover {\n",
              "      background-color: #E2EBFA;\n",
              "      box-shadow: 0px 1px 2px rgba(60, 64, 67, 0.3), 0px 1px 3px 1px rgba(60, 64, 67, 0.15);\n",
              "      fill: #174EA6;\n",
              "    }\n",
              "\n",
              "    [theme=dark] .colab-df-convert {\n",
              "      background-color: #3B4455;\n",
              "      fill: #D2E3FC;\n",
              "    }\n",
              "\n",
              "    [theme=dark] .colab-df-convert:hover {\n",
              "      background-color: #434B5C;\n",
              "      box-shadow: 0px 1px 3px 1px rgba(0, 0, 0, 0.15);\n",
              "      filter: drop-shadow(0px 1px 2px rgba(0, 0, 0, 0.3));\n",
              "      fill: #FFFFFF;\n",
              "    }\n",
              "  </style>\n",
              "\n",
              "      <script>\n",
              "        const buttonEl =\n",
              "          document.querySelector('#df-22a9c314-91e9-4451-93ae-ffe0ae36143c button.colab-df-convert');\n",
              "        buttonEl.style.display =\n",
              "          google.colab.kernel.accessAllowed ? 'block' : 'none';\n",
              "\n",
              "        async function convertToInteractive(key) {\n",
              "          const element = document.querySelector('#df-22a9c314-91e9-4451-93ae-ffe0ae36143c');\n",
              "          const dataTable =\n",
              "            await google.colab.kernel.invokeFunction('convertToInteractive',\n",
              "                                                     [key], {});\n",
              "          if (!dataTable) return;\n",
              "\n",
              "          const docLinkHtml = 'Like what you see? Visit the ' +\n",
              "            '<a target=\"_blank\" href=https://colab.research.google.com/notebooks/data_table.ipynb>data table notebook</a>'\n",
              "            + ' to learn more about interactive tables.';\n",
              "          element.innerHTML = '';\n",
              "          dataTable['output_type'] = 'display_data';\n",
              "          await google.colab.output.renderOutput(dataTable, element);\n",
              "          const docLink = document.createElement('div');\n",
              "          docLink.innerHTML = docLinkHtml;\n",
              "          element.appendChild(docLink);\n",
              "        }\n",
              "      </script>\n",
              "    </div>\n",
              "  </div>\n",
              "  "
            ]
          },
          "metadata": {},
          "execution_count": 107
        }
      ]
    },
    {
      "cell_type": "code",
      "source": [
        "# Let's know how many states are in each region\n",
        "drivers.groupby('region')['stateut'].count().plot(kind='bar')"
      ],
      "metadata": {
        "colab": {
          "base_uri": "https://localhost:8080/",
          "height": 338
        },
        "id": "9faLm7ly500v",
        "outputId": "70b03981-ac18-4503-e743-9ab5e1823474"
      },
      "execution_count": null,
      "outputs": [
        {
          "output_type": "execute_result",
          "data": {
            "text/plain": [
              "<matplotlib.axes._subplots.AxesSubplot at 0x7f81faaded90>"
            ]
          },
          "metadata": {},
          "execution_count": 66
        },
        {
          "output_type": "display_data",
          "data": {
            "text/plain": [
              "<Figure size 432x288 with 1 Axes>"
            ],
            "image/png": "[encoded data removed]"
          },
          "metadata": {
            "needs_background": "light"
          }
        }
      ]
    },
    {
      "cell_type": "code",
      "source": [
        "sns.displot(data=drivers, x='alcintake2014', hue='region', stat='probability')"
      ],
      "metadata": {
        "colab": {
          "base_uri": "https://localhost:8080/",
          "height": 386
        },
        "id": "DTBR1-qO2jXC",
        "outputId": "36f6da73-86be-4b27-a4b9-d6ac601b1230"
      },
      "execution_count": null,
      "outputs": [
        {
          "output_type": "execute_result",
          "data": {
            "text/plain": [
              "<seaborn.axisgrid.FacetGrid at 0x7f81fa6d82b0>"
            ]
          },
          "metadata": {},
          "execution_count": 92
        },
        {
          "output_type": "display_data",
          "data": {
            "text/plain": [
              "<Figure size 456.35x360 with 1 Axes>"
            ],
            "image/png": "[encoded data removed]"
          },
          "metadata": {
            "needs_background": "light"
          }
        }
      ]
    },
    {
      "cell_type": "markdown",
      "source": [
        "#### Comparing accident numbers triggered due to alcohol intake, overspeeding, overtaking, lane jumping & sleeping while driving etc. by regions"
      ],
      "metadata": {
        "id": "FS72lu5_WS4C"
      }
    },
    {
      "cell_type": "code",
      "source": [
        "sns.histplot(data=drivers, x='alcintake2014', y='alcintake2016', hue='region')"
      ],
      "metadata": {
        "colab": {
          "base_uri": "https://localhost:8080/",
          "height": 302
        },
        "id": "UjdLdf8F2d-3",
        "outputId": "092a2cf7-af16-4cc7-b52c-27925e2abf3b"
      },
      "execution_count": null,
      "outputs": [
        {
          "output_type": "execute_result",
          "data": {
            "text/plain": [
              "<matplotlib.axes._subplots.AxesSubplot at 0x7f81f012e040>"
            ]
          },
          "metadata": {},
          "execution_count": 110
        },
        {
          "output_type": "display_data",
          "data": {
            "text/plain": [
              "<Figure size 432x288 with 1 Axes>"
            ],
            "image/png": "[encoded data removed]"
          },
          "metadata": {
            "needs_background": "light"
          }
        }
      ]
    },
    {
      "cell_type": "code",
      "source": [
        "sns.histplot(data=drivers, x='overspeed2014', y='overspeed2016', hue='region')"
      ],
      "metadata": {
        "colab": {
          "base_uri": "https://localhost:8080/",
          "height": 302
        },
        "id": "bWG-BbmsMYCs",
        "outputId": "8a2945a7-01db-4cbd-e0b0-802618bd65c6"
      },
      "execution_count": null,
      "outputs": [
        {
          "output_type": "execute_result",
          "data": {
            "text/plain": [
              "<matplotlib.axes._subplots.AxesSubplot at 0x7f81ec57dca0>"
            ]
          },
          "metadata": {},
          "execution_count": 111
        },
        {
          "output_type": "display_data",
          "data": {
            "text/plain": [
              "<Figure size 432x288 with 1 Axes>"
            ],
            "image/png": "[encoded data removed]"
          },
          "metadata": {
            "needs_background": "light"
          }
        }
      ]
    },
    {
      "cell_type": "code",
      "source": [
        "sns.histplot(data=drivers, x='overtaking2014', y='overtaking2016', hue='region')"
      ],
      "metadata": {
        "colab": {
          "base_uri": "https://localhost:8080/",
          "height": 302
        },
        "id": "4mqYUtd5Q1vx",
        "outputId": "e533a3a5-0faf-42ec-8d0a-469ece344d24"
      },
      "execution_count": null,
      "outputs": [
        {
          "output_type": "execute_result",
          "data": {
            "text/plain": [
              "<matplotlib.axes._subplots.AxesSubplot at 0x7f81ec4daa00>"
            ]
          },
          "metadata": {},
          "execution_count": 112
        },
        {
          "output_type": "display_data",
          "data": {
            "text/plain": [
              "<Figure size 432x288 with 1 Axes>"
            ],
            "image/png": "[encoded data removed]"
          },
          "metadata": {
            "needs_background": "light"
          }
        }
      ]
    },
    {
      "cell_type": "code",
      "source": [
        "sns.histplot(data=drivers, x='lanejumping2014', y='lanejumping2016', hue='region')"
      ],
      "metadata": {
        "colab": {
          "base_uri": "https://localhost:8080/",
          "height": 302
        },
        "id": "JYyxCAiIQ8fD",
        "outputId": "dfd720b4-5e6e-4f24-ae6a-d8f20f428241"
      },
      "execution_count": null,
      "outputs": [
        {
          "output_type": "execute_result",
          "data": {
            "text/plain": [
              "<matplotlib.axes._subplots.AxesSubplot at 0x7f81ebc9e370>"
            ]
          },
          "metadata": {},
          "execution_count": 119
        },
        {
          "output_type": "display_data",
          "data": {
            "text/plain": [
              "<Figure size 432x288 with 1 Axes>"
            ],
            "image/png": "[encoded data removed]"
          },
          "metadata": {
            "needs_background": "light"
          }
        }
      ]
    },
    {
      "cell_type": "code",
      "source": [
        "sns.histplot(data=drivers, x='wrongside2014', y='wrongside2016', hue='region')"
      ],
      "metadata": {
        "colab": {
          "base_uri": "https://localhost:8080/",
          "height": 302
        },
        "id": "LJm6k2nJRLCP",
        "outputId": "407ed557-a627-4e52-9563-0d9edd9d61a8"
      },
      "execution_count": null,
      "outputs": [
        {
          "output_type": "execute_result",
          "data": {
            "text/plain": [
              "<matplotlib.axes._subplots.AxesSubplot at 0x7f81ebaf2520>"
            ]
          },
          "metadata": {},
          "execution_count": 120
        },
        {
          "output_type": "display_data",
          "data": {
            "text/plain": [
              "<Figure size 432x288 with 1 Axes>"
            ],
            "image/png": "[encoded data removed]"
          },
          "metadata": {
            "needs_background": "light"
          }
        }
      ]
    },
    {
      "cell_type": "code",
      "source": [
        "sns.histplot(data=drivers, x='signalavoid2014', y='signalavoid2016', hue='region')"
      ],
      "metadata": {
        "colab": {
          "base_uri": "https://localhost:8080/",
          "height": 302
        },
        "id": "UtfbHGQVSNkW",
        "outputId": "c8862d0f-f5d9-4a55-f821-33c42e35ea38"
      },
      "execution_count": null,
      "outputs": [
        {
          "output_type": "execute_result",
          "data": {
            "text/plain": [
              "<matplotlib.axes._subplots.AxesSubplot at 0x7f81ebadd1f0>"
            ]
          },
          "metadata": {},
          "execution_count": 121
        },
        {
          "output_type": "display_data",
          "data": {
            "text/plain": [
              "<Figure size 432x288 with 1 Axes>"
            ],
            "image/png": "[encoded data removed]"
          },
          "metadata": {
            "needs_background": "light"
          }
        }
      ]
    },
    {
      "cell_type": "code",
      "source": [
        "sns.histplot(data=drivers, x='asleep2014', y='asleep2016', hue='region')"
      ],
      "metadata": {
        "colab": {
          "base_uri": "https://localhost:8080/",
          "height": 302
        },
        "id": "a7E7fE1JSdHN",
        "outputId": "693e1662-749f-4c8e-eb8d-611a3fd9a485"
      },
      "execution_count": null,
      "outputs": [
        {
          "output_type": "execute_result",
          "data": {
            "text/plain": [
              "<matplotlib.axes._subplots.AxesSubplot at 0x7f81eb82ac70>"
            ]
          },
          "metadata": {},
          "execution_count": 122
        },
        {
          "output_type": "display_data",
          "data": {
            "text/plain": [
              "<Figure size 432x288 with 1 Axes>"
            ],
            "image/png": "[encoded data removed]"
          },
          "metadata": {
            "needs_background": "light"
          }
        }
      ]
    },
    {
      "cell_type": "code",
      "source": [
        "sns.histplot(data=drivers, x='othercause2014', y='othercause2016', hue='region')"
      ],
      "metadata": {
        "colab": {
          "base_uri": "https://localhost:8080/",
          "height": 302
        },
        "id": "vVDxVIfZSiLA",
        "outputId": "105d517c-a9b3-457e-a41c-f3da33f698f8"
      },
      "execution_count": null,
      "outputs": [
        {
          "output_type": "execute_result",
          "data": {
            "text/plain": [
              "<matplotlib.axes._subplots.AxesSubplot at 0x7f81eb679190>"
            ]
          },
          "metadata": {},
          "execution_count": 124
        },
        {
          "output_type": "display_data",
          "data": {
            "text/plain": [
              "<Figure size 432x288 with 1 Axes>"
            ],
            "image/png": "[encoded data removed]"
          },
          "metadata": {
            "needs_background": "light"
          }
        }
      ]
    },
    {
      "cell_type": "markdown",
      "source": [
        "## **Preprocessing**\n",
        "### Label Encoding\n",
        "<p>Label encoding means converting the categorical columns into numerical columns so that we can train our model on it.</p>"
      ],
      "metadata": {
        "id": "Q-jpI7k3THqw"
      }
    },
    {
      "cell_type": "code",
      "source": [
        "# import the encoder module\n",
        "from sklearn.preprocessing import LabelEncoder, OneHotEncoder\n",
        "\n",
        "le = LabelEncoder()\n",
        "for i in category_col:\n",
        "  drivers[i] = le.fit_transform(drivers[i])"
      ],
      "metadata": {
        "id": "g9XROA58SnjY"
      },
      "execution_count": null,
      "outputs": []
    },
    {
      "cell_type": "code",
      "source": [
        "drivers.head()"
      ],
      "metadata": {
        "colab": {
          "base_uri": "https://localhost:8080/",
          "height": 301
        },
        "id": "LiEFFugiTZDC",
        "outputId": "450701c2-b44b-4bff-8f28-3f0faeca5204"
      },
      "execution_count": null,
      "outputs": [
        {
          "output_type": "execute_result",
          "data": {
            "text/plain": [
              "     stateut  region  regionid  alcintake2014  overspeed2014  overtaking2014  \\\n",
              "sno                                                                            \n",
              "1          1       5         2            594        12747.0             507   \n",
              "2          2       3         5             11           16.0               0   \n",
              "3          3       3         5            613         4596.0             129   \n",
              "4          4       2         1           1680         1496.0             278   \n",
              "5          6       0         9            335         6720.0             188   \n",
              "\n",
              "     lanejumping2014  wrongside2014  signalavoid2014  asleep2014  \\\n",
              "sno                                                                \n",
              "1                328            668               29         154   \n",
              "2                  0              0                0           0   \n",
              "3                104            156                7           3   \n",
              "4                236            308                7          72   \n",
              "5                313            266               10          81   \n",
              "\n",
              "     othercause2014  alcintake2016  overspeed2016  signalavoid2016  \\\n",
              "sno                                                                  \n",
              "1              1938            128          17286               40   \n",
              "2                22             15             45                0   \n",
              "3               628            352           3520               64   \n",
              "4               439            593           2323                8   \n",
              "5               520            145           6660               62   \n",
              "\n",
              "     wrongside2016  lanejumping2016  overtaking2016  asleep2016  \\\n",
              "sno                                                               \n",
              "1              667              325            1024         306   \n",
              "2                7               11               8           8   \n",
              "3              334              156             371           3   \n",
              "4              458              156             573         122   \n",
              "5              410              175             467         144   \n",
              "\n",
              "     othercause2016  \n",
              "sno                  \n",
              "1              2868  \n",
              "2                18  \n",
              "3               873  \n",
              "4               612  \n",
              "5               953  "
            ],
            "text/html": [
              "\n",
              "  <div id=\"df-e91493bc-6289-4748-858e-1a7e99470d0c\">\n",
              "    <div class=\"colab-df-container\">\n",
              "      <div>\n",
              "<style scoped>\n",
              "    .dataframe tbody tr th:only-of-type {\n",
              "        vertical-align: middle;\n",
              "    }\n",
              "\n",
              "    .dataframe tbody tr th {\n",
              "        vertical-align: top;\n",
              "    }\n",
              "\n",
              "    .dataframe thead th {\n",
              "        text-align: right;\n",
              "    }\n",
              "</style>\n",
              "<table border=\"1\" class=\"dataframe\">\n",
              "  <thead>\n",
              "    <tr style=\"text-align: right;\">\n",
              "      <th></th>\n",
              "      <th>stateut</th>\n",
              "      <th>region</th>\n",
              "      <th>regionid</th>\n",
              "      <th>alcintake2014</th>\n",
              "      <th>overspeed2014</th>\n",
              "      <th>overtaking2014</th>\n",
              "      <th>lanejumping2014</th>\n",
              "      <th>wrongside2014</th>\n",
              "      <th>signalavoid2014</th>\n",
              "      <th>asleep2014</th>\n",
              "      <th>othercause2014</th>\n",
              "      <th>alcintake2016</th>\n",
              "      <th>overspeed2016</th>\n",
              "      <th>signalavoid2016</th>\n",
              "      <th>wrongside2016</th>\n",
              "      <th>lanejumping2016</th>\n",
              "      <th>overtaking2016</th>\n",
              "      <th>asleep2016</th>\n",
              "      <th>othercause2016</th>\n",
              "    </tr>\n",
              "    <tr>\n",
              "      <th>sno</th>\n",
              "      <th></th>\n",
              "      <th></th>\n",
              "      <th></th>\n",
              "      <th></th>\n",
              "      <th></th>\n",
              "      <th></th>\n",
              "      <th></th>\n",
              "      <th></th>\n",
              "      <th></th>\n",
              "      <th></th>\n",
              "      <th></th>\n",
              "      <th></th>\n",
              "      <th></th>\n",
              "      <th></th>\n",
              "      <th></th>\n",
              "      <th></th>\n",
              "      <th></th>\n",
              "      <th></th>\n",
              "      <th></th>\n",
              "    </tr>\n",
              "  </thead>\n",
              "  <tbody>\n",
              "    <tr>\n",
              "      <th>1</th>\n",
              "      <td>1</td>\n",
              "      <td>5</td>\n",
              "      <td>2</td>\n",
              "      <td>594</td>\n",
              "      <td>12747.0</td>\n",
              "      <td>507</td>\n",
              "      <td>328</td>\n",
              "      <td>668</td>\n",
              "      <td>29</td>\n",
              "      <td>154</td>\n",
              "      <td>1938</td>\n",
              "      <td>128</td>\n",
              "      <td>17286</td>\n",
              "      <td>40</td>\n",
              "      <td>667</td>\n",
              "      <td>325</td>\n",
              "      <td>1024</td>\n",
              "      <td>306</td>\n",
              "      <td>2868</td>\n",
              "    </tr>\n",
              "    <tr>\n",
              "      <th>2</th>\n",
              "      <td>2</td>\n",
              "      <td>3</td>\n",
              "      <td>5</td>\n",
              "      <td>11</td>\n",
              "      <td>16.0</td>\n",
              "      <td>0</td>\n",
              "      <td>0</td>\n",
              "      <td>0</td>\n",
              "      <td>0</td>\n",
              "      <td>0</td>\n",
              "      <td>22</td>\n",
              "      <td>15</td>\n",
              "      <td>45</td>\n",
              "      <td>0</td>\n",
              "      <td>7</td>\n",
              "      <td>11</td>\n",
              "      <td>8</td>\n",
              "      <td>8</td>\n",
              "      <td>18</td>\n",
              "    </tr>\n",
              "    <tr>\n",
              "      <th>3</th>\n",
              "      <td>3</td>\n",
              "      <td>3</td>\n",
              "      <td>5</td>\n",
              "      <td>613</td>\n",
              "      <td>4596.0</td>\n",
              "      <td>129</td>\n",
              "      <td>104</td>\n",
              "      <td>156</td>\n",
              "      <td>7</td>\n",
              "      <td>3</td>\n",
              "      <td>628</td>\n",
              "      <td>352</td>\n",
              "      <td>3520</td>\n",
              "      <td>64</td>\n",
              "      <td>334</td>\n",
              "      <td>156</td>\n",
              "      <td>371</td>\n",
              "      <td>3</td>\n",
              "      <td>873</td>\n",
              "    </tr>\n",
              "    <tr>\n",
              "      <th>4</th>\n",
              "      <td>4</td>\n",
              "      <td>2</td>\n",
              "      <td>1</td>\n",
              "      <td>1680</td>\n",
              "      <td>1496.0</td>\n",
              "      <td>278</td>\n",
              "      <td>236</td>\n",
              "      <td>308</td>\n",
              "      <td>7</td>\n",
              "      <td>72</td>\n",
              "      <td>439</td>\n",
              "      <td>593</td>\n",
              "      <td>2323</td>\n",
              "      <td>8</td>\n",
              "      <td>458</td>\n",
              "      <td>156</td>\n",
              "      <td>573</td>\n",
              "      <td>122</td>\n",
              "      <td>612</td>\n",
              "    </tr>\n",
              "    <tr>\n",
              "      <th>5</th>\n",
              "      <td>6</td>\n",
              "      <td>0</td>\n",
              "      <td>9</td>\n",
              "      <td>335</td>\n",
              "      <td>6720.0</td>\n",
              "      <td>188</td>\n",
              "      <td>313</td>\n",
              "      <td>266</td>\n",
              "      <td>10</td>\n",
              "      <td>81</td>\n",
              "      <td>520</td>\n",
              "      <td>145</td>\n",
              "      <td>6660</td>\n",
              "      <td>62</td>\n",
              "      <td>410</td>\n",
              "      <td>175</td>\n",
              "      <td>467</td>\n",
              "      <td>144</td>\n",
              "      <td>953</td>\n",
              "    </tr>\n",
              "  </tbody>\n",
              "</table>\n",
              "</div>\n",
              "      <button class=\"colab-df-convert\" onclick=\"convertToInteractive('df-e91493bc-6289-4748-858e-1a7e99470d0c')\"\n",
              "              title=\"Convert this dataframe to an interactive table.\"\n",
              "              style=\"display:none;\">\n",
              "        \n",
              "  <svg xmlns=\"http://www.w3.org/2000/svg\" height=\"24px\"viewBox=\"0 0 24 24\"\n",
              "       width=\"24px\">\n",
              "    <path d=\"M0 0h24v24H0V0z\" fill=\"none\"/>\n",
              "    <path d=\"M18.56 5.44l.94 2.06.94-2.06 2.06-.94-2.06-.94-.94-2.06-.94 2.06-2.06.94zm-11 1L8.5 8.5l.94-2.06 2.06-.94-2.06-.94L8.5 2.5l-.94 2.06-2.06.94zm10 10l.94 2.06.94-2.06 2.06-.94-2.06-.94-.94-2.06-.94 2.06-2.06.94z\"/><path d=\"M17.41 7.96l-1.37-1.37c-.4-.4-.92-.59-1.43-.59-.52 0-1.04.2-1.43.59L10.3 9.45l-7.72 7.72c-.78.78-.78 2.05 0 2.83L4 21.41c.39.39.9.59 1.41.59.51 0 1.02-.2 1.41-.59l7.78-7.78 2.81-2.81c.8-.78.8-2.07 0-2.86zM5.41 20L4 18.59l7.72-7.72 1.47 1.35L5.41 20z\"/>\n",
              "  </svg>\n",
              "      </button>\n",
              "      \n",
              "  <style>\n",
              "    .colab-df-container {\n",
              "      display:flex;\n",
              "      flex-wrap:wrap;\n",
              "      gap: 12px;\n",
              "    }\n",
              "\n",
              "    .colab-df-convert {\n",
              "      background-color: #E8F0FE;\n",
              "      border: none;\n",
              "      border-radius: 50%;\n",
              "      cursor: pointer;\n",
              "      display: none;\n",
              "      fill: #1967D2;\n",
              "      height: 32px;\n",
              "      padding: 0 0 0 0;\n",
              "      width: 32px;\n",
              "    }\n",
              "\n",
              "    .colab-df-convert:hover {\n",
              "      background-color: #E2EBFA;\n",
              "      box-shadow: 0px 1px 2px rgba(60, 64, 67, 0.3), 0px 1px 3px 1px rgba(60, 64, 67, 0.15);\n",
              "      fill: #174EA6;\n",
              "    }\n",
              "\n",
              "    [theme=dark] .colab-df-convert {\n",
              "      background-color: #3B4455;\n",
              "      fill: #D2E3FC;\n",
              "    }\n",
              "\n",
              "    [theme=dark] .colab-df-convert:hover {\n",
              "      background-color: #434B5C;\n",
              "      box-shadow: 0px 1px 3px 1px rgba(0, 0, 0, 0.15);\n",
              "      filter: drop-shadow(0px 1px 2px rgba(0, 0, 0, 0.3));\n",
              "      fill: #FFFFFF;\n",
              "    }\n",
              "  </style>\n",
              "\n",
              "      <script>\n",
              "        const buttonEl =\n",
              "          document.querySelector('#df-e91493bc-6289-4748-858e-1a7e99470d0c button.colab-df-convert');\n",
              "        buttonEl.style.display =\n",
              "          google.colab.kernel.accessAllowed ? 'block' : 'none';\n",
              "\n",
              "        async function convertToInteractive(key) {\n",
              "          const element = document.querySelector('#df-e91493bc-6289-4748-858e-1a7e99470d0c');\n",
              "          const dataTable =\n",
              "            await google.colab.kernel.invokeFunction('convertToInteractive',\n",
              "                                                     [key], {});\n",
              "          if (!dataTable) return;\n",
              "\n",
              "          const docLinkHtml = 'Like what you see? Visit the ' +\n",
              "            '<a target=\"_blank\" href=https://colab.research.google.com/notebooks/data_table.ipynb>data table notebook</a>'\n",
              "            + ' to learn more about interactive tables.';\n",
              "          element.innerHTML = '';\n",
              "          dataTable['output_type'] = 'display_data';\n",
              "          await google.colab.output.renderOutput(dataTable, element);\n",
              "          const docLink = document.createElement('div');\n",
              "          docLink.innerHTML = docLinkHtml;\n",
              "          element.appendChild(docLink);\n",
              "        }\n",
              "      </script>\n",
              "    </div>\n",
              "  </div>\n",
              "  "
            ]
          },
          "metadata": {},
          "execution_count": 127
        }
      ]
    },
    {
      "cell_type": "code",
      "source": [
        "# Let's visualize the correlations between the features.\n",
        "fig, ax = plt.subplots(figsize=(20,14))\n",
        "ax = sns.heatmap(drivers.corr(), annot=True)"
      ],
      "metadata": {
        "colab": {
          "base_uri": "https://localhost:8080/",
          "height": 682
        },
        "id": "cdwrKZ1xUIwf",
        "outputId": "8ea9a2d1-174e-4701-c601-e73573c5c30f"
      },
      "execution_count": null,
      "outputs": [
        {
          "output_type": "display_data",
          "data": {
            "text/plain": [
              "<Figure size 1440x1008 with 2 Axes>"
            ],
            "image/png": "[encoded data removed]"
          },
          "metadata": {
            "needs_background": "light"
          }
        }
      ]
    },
    {
      "cell_type": "code",
      "source": [
        "pd.DataFrame(drivers.groupby(['alcintake2014','alcintake2016'])['stateut'].sum())"
      ],
      "metadata": {
        "colab": {
          "base_uri": "https://localhost:8080/",
          "height": 1000
        },
        "id": "JkhP-FLZUXnY",
        "outputId": "39a80d4f-4ab5-4c0a-cc0f-36ba8569eece"
      },
      "execution_count": null,
      "outputs": [
        {
          "output_type": "execute_result",
          "data": {
            "text/plain": [
              "                             stateut\n",
              "alcintake2014 alcintake2016         \n",
              "0             0                   18\n",
              "              7                    8\n",
              "              71                  21\n",
              "              462                 35\n",
              "1             0                    7\n",
              "8             12                  29\n",
              "9             3                   10\n",
              "11            9                    5\n",
              "              15                   2\n",
              "12            5                   32\n",
              "16            27                  23\n",
              "25            27                   0\n",
              "              35                  22\n",
              "35            133                 17\n",
              "42            64                  11\n",
              "51            164                  9\n",
              "73            82                  26\n",
              "74            72                  13\n",
              "91            13                  24\n",
              "335           145                  6\n",
              "388           47                  14\n",
              "442           317                 27\n",
              "508           40                  34\n",
              "594           128                  1\n",
              "611           543                 15\n",
              "613           352                  3\n",
              "637           1255                25\n",
              "915           673                 28\n",
              "968           202                 31\n",
              "1095          529                 12\n",
              "1232          4633                33\n",
              "1251          226                 20\n",
              "1416          531                 30\n",
              "1680          593                  4\n",
              "2207          396                 16\n",
              "3540          3083                19"
            ],
            "text/html": [
              "\n",
              "  <div id=\"df-9214385a-0193-4047-bab8-e71b63263ace\">\n",
              "    <div class=\"colab-df-container\">\n",
              "      <div>\n",
              "<style scoped>\n",
              "    .dataframe tbody tr th:only-of-type {\n",
              "        vertical-align: middle;\n",
              "    }\n",
              "\n",
              "    .dataframe tbody tr th {\n",
              "        vertical-align: top;\n",
              "    }\n",
              "\n",
              "    .dataframe thead th {\n",
              "        text-align: right;\n",
              "    }\n",
              "</style>\n",
              "<table border=\"1\" class=\"dataframe\">\n",
              "  <thead>\n",
              "    <tr style=\"text-align: right;\">\n",
              "      <th></th>\n",
              "      <th></th>\n",
              "      <th>stateut</th>\n",
              "    </tr>\n",
              "    <tr>\n",
              "      <th>alcintake2014</th>\n",
              "      <th>alcintake2016</th>\n",
              "      <th></th>\n",
              "    </tr>\n",
              "  </thead>\n",
              "  <tbody>\n",
              "    <tr>\n",
              "      <th rowspan=\"4\" valign=\"top\">0</th>\n",
              "      <th>0</th>\n",
              "      <td>18</td>\n",
              "    </tr>\n",
              "    <tr>\n",
              "      <th>7</th>\n",
              "      <td>8</td>\n",
              "    </tr>\n",
              "    <tr>\n",
              "      <th>71</th>\n",
              "      <td>21</td>\n",
              "    </tr>\n",
              "    <tr>\n",
              "      <th>462</th>\n",
              "      <td>35</td>\n",
              "    </tr>\n",
              "    <tr>\n",
              "      <th>1</th>\n",
              "      <th>0</th>\n",
              "      <td>7</td>\n",
              "    </tr>\n",
              "    <tr>\n",
              "      <th>8</th>\n",
              "      <th>12</th>\n",
              "      <td>29</td>\n",
              "    </tr>\n",
              "    <tr>\n",
              "      <th>9</th>\n",
              "      <th>3</th>\n",
              "      <td>10</td>\n",
              "    </tr>\n",
              "    <tr>\n",
              "      <th rowspan=\"2\" valign=\"top\">11</th>\n",
              "      <th>9</th>\n",
              "      <td>5</td>\n",
              "    </tr>\n",
              "    <tr>\n",
              "      <th>15</th>\n",
              "      <td>2</td>\n",
              "    </tr>\n",
              "    <tr>\n",
              "      <th>12</th>\n",
              "      <th>5</th>\n",
              "      <td>32</td>\n",
              "    </tr>\n",
              "    <tr>\n",
              "      <th>16</th>\n",
              "      <th>27</th>\n",
              "      <td>23</td>\n",
              "    </tr>\n",
              "    <tr>\n",
              "      <th rowspan=\"2\" valign=\"top\">25</th>\n",
              "      <th>27</th>\n",
              "      <td>0</td>\n",
              "    </tr>\n",
              "    <tr>\n",
              "      <th>35</th>\n",
              "      <td>22</td>\n",
              "    </tr>\n",
              "    <tr>\n",
              "      <th>35</th>\n",
              "      <th>133</th>\n",
              "      <td>17</td>\n",
              "    </tr>\n",
              "    <tr>\n",
              "      <th>42</th>\n",
              "      <th>64</th>\n",
              "      <td>11</td>\n",
              "    </tr>\n",
              "    <tr>\n",
              "      <th>51</th>\n",
              "      <th>164</th>\n",
              "      <td>9</td>\n",
              "    </tr>\n",
              "    <tr>\n",
              "      <th>73</th>\n",
              "      <th>82</th>\n",
              "      <td>26</td>\n",
              "    </tr>\n",
              "    <tr>\n",
              "      <th>74</th>\n",
              "      <th>72</th>\n",
              "      <td>13</td>\n",
              "    </tr>\n",
              "    <tr>\n",
              "      <th>91</th>\n",
              "      <th>13</th>\n",
              "      <td>24</td>\n",
              "    </tr>\n",
              "    <tr>\n",
              "      <th>335</th>\n",
              "      <th>145</th>\n",
              "      <td>6</td>\n",
              "    </tr>\n",
              "    <tr>\n",
              "      <th>388</th>\n",
              "      <th>47</th>\n",
              "      <td>14</td>\n",
              "    </tr>\n",
              "    <tr>\n",
              "      <th>442</th>\n",
              "      <th>317</th>\n",
              "      <td>27</td>\n",
              "    </tr>\n",
              "    <tr>\n",
              "      <th>508</th>\n",
              "      <th>40</th>\n",
              "      <td>34</td>\n",
              "    </tr>\n",
              "    <tr>\n",
              "      <th>594</th>\n",
              "      <th>128</th>\n",
              "      <td>1</td>\n",
              "    </tr>\n",
              "    <tr>\n",
              "      <th>611</th>\n",
              "      <th>543</th>\n",
              "      <td>15</td>\n",
              "    </tr>\n",
              "    <tr>\n",
              "      <th>613</th>\n",
              "      <th>352</th>\n",
              "      <td>3</td>\n",
              "    </tr>\n",
              "    <tr>\n",
              "      <th>637</th>\n",
              "      <th>1255</th>\n",
              "      <td>25</td>\n",
              "    </tr>\n",
              "    <tr>\n",
              "      <th>915</th>\n",
              "      <th>673</th>\n",
              "      <td>28</td>\n",
              "    </tr>\n",
              "    <tr>\n",
              "      <th>968</th>\n",
              "      <th>202</th>\n",
              "      <td>31</td>\n",
              "    </tr>\n",
              "    <tr>\n",
              "      <th>1095</th>\n",
              "      <th>529</th>\n",
              "      <td>12</td>\n",
              "    </tr>\n",
              "    <tr>\n",
              "      <th>1232</th>\n",
              "      <th>4633</th>\n",
              "      <td>33</td>\n",
              "    </tr>\n",
              "    <tr>\n",
              "      <th>1251</th>\n",
              "      <th>226</th>\n",
              "      <td>20</td>\n",
              "    </tr>\n",
              "    <tr>\n",
              "      <th>1416</th>\n",
              "      <th>531</th>\n",
              "      <td>30</td>\n",
              "    </tr>\n",
              "    <tr>\n",
              "      <th>1680</th>\n",
              "      <th>593</th>\n",
              "      <td>4</td>\n",
              "    </tr>\n",
              "    <tr>\n",
              "      <th>2207</th>\n",
              "      <th>396</th>\n",
              "      <td>16</td>\n",
              "    </tr>\n",
              "    <tr>\n",
              "      <th>3540</th>\n",
              "      <th>3083</th>\n",
              "      <td>19</td>\n",
              "    </tr>\n",
              "  </tbody>\n",
              "</table>\n",
              "</div>\n",
              "      <button class=\"colab-df-convert\" onclick=\"convertToInteractive('df-9214385a-0193-4047-bab8-e71b63263ace')\"\n",
              "              title=\"Convert this dataframe to an interactive table.\"\n",
              "              style=\"display:none;\">\n",
              "        \n",
              "  <svg xmlns=\"http://www.w3.org/2000/svg\" height=\"24px\"viewBox=\"0 0 24 24\"\n",
              "       width=\"24px\">\n",
              "    <path d=\"M0 0h24v24H0V0z\" fill=\"none\"/>\n",
              "    <path d=\"M18.56 5.44l.94 2.06.94-2.06 2.06-.94-2.06-.94-.94-2.06-.94 2.06-2.06.94zm-11 1L8.5 8.5l.94-2.06 2.06-.94-2.06-.94L8.5 2.5l-.94 2.06-2.06.94zm10 10l.94 2.06.94-2.06 2.06-.94-2.06-.94-.94-2.06-.94 2.06-2.06.94z\"/><path d=\"M17.41 7.96l-1.37-1.37c-.4-.4-.92-.59-1.43-.59-.52 0-1.04.2-1.43.59L10.3 9.45l-7.72 7.72c-.78.78-.78 2.05 0 2.83L4 21.41c.39.39.9.59 1.41.59.51 0 1.02-.2 1.41-.59l7.78-7.78 2.81-2.81c.8-.78.8-2.07 0-2.86zM5.41 20L4 18.59l7.72-7.72 1.47 1.35L5.41 20z\"/>\n",
              "  </svg>\n",
              "      </button>\n",
              "      \n",
              "  <style>\n",
              "    .colab-df-container {\n",
              "      display:flex;\n",
              "      flex-wrap:wrap;\n",
              "      gap: 12px;\n",
              "    }\n",
              "\n",
              "    .colab-df-convert {\n",
              "      background-color: #E8F0FE;\n",
              "      border: none;\n",
              "      border-radius: 50%;\n",
              "      cursor: pointer;\n",
              "      display: none;\n",
              "      fill: #1967D2;\n",
              "      height: 32px;\n",
              "      padding: 0 0 0 0;\n",
              "      width: 32px;\n",
              "    }\n",
              "\n",
              "    .colab-df-convert:hover {\n",
              "      background-color: #E2EBFA;\n",
              "      box-shadow: 0px 1px 2px rgba(60, 64, 67, 0.3), 0px 1px 3px 1px rgba(60, 64, 67, 0.15);\n",
              "      fill: #174EA6;\n",
              "    }\n",
              "\n",
              "    [theme=dark] .colab-df-convert {\n",
              "      background-color: #3B4455;\n",
              "      fill: #D2E3FC;\n",
              "    }\n",
              "\n",
              "    [theme=dark] .colab-df-convert:hover {\n",
              "      background-color: #434B5C;\n",
              "      box-shadow: 0px 1px 3px 1px rgba(0, 0, 0, 0.15);\n",
              "      filter: drop-shadow(0px 1px 2px rgba(0, 0, 0, 0.3));\n",
              "      fill: #FFFFFF;\n",
              "    }\n",
              "  </style>\n",
              "\n",
              "      <script>\n",
              "        const buttonEl =\n",
              "          document.querySelector('#df-9214385a-0193-4047-bab8-e71b63263ace button.colab-df-convert');\n",
              "        buttonEl.style.display =\n",
              "          google.colab.kernel.accessAllowed ? 'block' : 'none';\n",
              "\n",
              "        async function convertToInteractive(key) {\n",
              "          const element = document.querySelector('#df-9214385a-0193-4047-bab8-e71b63263ace');\n",
              "          const dataTable =\n",
              "            await google.colab.kernel.invokeFunction('convertToInteractive',\n",
              "                                                     [key], {});\n",
              "          if (!dataTable) return;\n",
              "\n",
              "          const docLinkHtml = 'Like what you see? Visit the ' +\n",
              "            '<a target=\"_blank\" href=https://colab.research.google.com/notebooks/data_table.ipynb>data table notebook</a>'\n",
              "            + ' to learn more about interactive tables.';\n",
              "          element.innerHTML = '';\n",
              "          dataTable['output_type'] = 'display_data';\n",
              "          await google.colab.output.renderOutput(dataTable, element);\n",
              "          const docLink = document.createElement('div');\n",
              "          docLink.innerHTML = docLinkHtml;\n",
              "          element.appendChild(docLink);\n",
              "        }\n",
              "      </script>\n",
              "    </div>\n",
              "  </div>\n",
              "  "
            ]
          },
          "metadata": {},
          "execution_count": 147
        }
      ]
    },
    {
      "cell_type": "code",
      "source": [
        "drivers.groupby(['overspeed2014','overspeed2016'])['stateut'].sum()"
      ],
      "metadata": {
        "colab": {
          "base_uri": "https://localhost:8080/"
        },
        "id": "YXwHsLDdYUW0",
        "outputId": "2c486f52-ae41-45b3-82ab-b04f930a7379"
      },
      "execution_count": null,
      "outputs": [
        {
          "output_type": "execute_result",
          "data": {
            "text/plain": [
              "overspeed2014  overspeed2016\n",
              "0.0            57               21\n",
              "1.0            0                18\n",
              "16.0           45                2\n",
              "21.0           8                 7\n",
              "               29                8\n",
              "28.0           45               29\n",
              "40.0           146              22\n",
              "48.0           14               23\n",
              "51.0           11               24\n",
              "94.0           124               0\n",
              "               736              34\n",
              "160.0          380               5\n",
              "250.0          1297             26\n",
              "499.0          413              32\n",
              "1496.0         2323              4\n",
              "1627.0         652              15\n",
              "2253.0         2517             27\n",
              "2561.0         10184            33\n",
              "2763.0         516              13\n",
              "2859.0         2428             14\n",
              "3148.0         3883             10\n",
              "3339.0         1473             35\n",
              "3699.0         4984             25\n",
              "4185.0         2344             12\n",
              "4596.0         3520              3\n",
              "5950.6         1696              9\n",
              "6266.0         13615            31\n",
              "6720.0         6660              6\n",
              "11395.0        13358            28\n",
              "12747.0        17286             1\n",
              "13752.0        13314            11\n",
              "20611.0        34062            17\n",
              "20967.0        28017            19\n",
              "23370.0        31506            16\n",
              "28804.0        47055            30\n",
              "29790.0        23643            20\n",
              "Name: stateut, dtype: int64"
            ]
          },
          "metadata": {},
          "execution_count": 133
        }
      ]
    },
    {
      "cell_type": "code",
      "source": [
        "drivers.groupby(['overtaking2014','overtaking2016'])['stateut'].sum()"
      ],
      "metadata": {
        "colab": {
          "base_uri": "https://localhost:8080/"
        },
        "id": "07H9unJgYgFA",
        "outputId": "79a6141f-0b2f-48de-c88a-abca3d8d7d46"
      },
      "execution_count": null,
      "outputs": [
        {
          "output_type": "execute_result",
          "data": {
            "text/plain": [
              "overtaking2014  overtaking2016\n",
              "0               0                 64\n",
              "                5                  7\n",
              "                8                  2\n",
              "                17                29\n",
              "                46                21\n",
              "                56                32\n",
              "                211                9\n",
              "2               2                  8\n",
              "7               15                 0\n",
              "15              132               34\n",
              "21              195               13\n",
              "24              6                 23\n",
              "33              80                10\n",
              "60              585               27\n",
              "67              18                14\n",
              "68              155               15\n",
              "83              0                  5\n",
              "102             1345              28\n",
              "129             371                3\n",
              "136             71                26\n",
              "188             467                6\n",
              "206             1134              12\n",
              "257             122               35\n",
              "278             573                4\n",
              "336             1194              25\n",
              "392             3937              33\n",
              "507             1024               1\n",
              "526             539               31\n",
              "641             1016              11\n",
              "944             1019              16\n",
              "1165            4091              19\n",
              "1217            2175              17\n",
              "1687            1883              20\n",
              "2171            7155              30\n",
              "Name: stateut, dtype: int64"
            ]
          },
          "metadata": {},
          "execution_count": 134
        }
      ]
    },
    {
      "cell_type": "code",
      "source": [
        "drivers.groupby(['lanejumping2014','lanejumping2016'])['stateut'].sum()"
      ],
      "metadata": {
        "colab": {
          "base_uri": "https://localhost:8080/"
        },
        "id": "epW5PbWJY9p6",
        "outputId": "d35dd9d5-df56-4a03-e8d8-33f9c8f065e5"
      },
      "execution_count": null,
      "outputs": [
        {
          "output_type": "execute_result",
          "data": {
            "text/plain": [
              "lanejumping2014  lanejumping2016\n",
              "0                0                  170\n",
              "                 11                   2\n",
              "                 129                  9\n",
              "2                0                    8\n",
              "7                0                   32\n",
              "8                0                   10\n",
              "10               78                  13\n",
              "20               0                    0\n",
              "25               5                    5\n",
              "29               2                   14\n",
              "69               0                   34\n",
              "104              156                  3\n",
              "149              110                 15\n",
              "179              53                  35\n",
              "                 690                 12\n",
              "211              194                 27\n",
              "232              37                  31\n",
              "236              156                  4\n",
              "286              188                 25\n",
              "313              175                  6\n",
              "328              325                  1\n",
              "362              1123                33\n",
              "370              662                 11\n",
              "455              292                 16\n",
              "897              765                 20\n",
              "1157             217                 28\n",
              "1178             121                 17\n",
              "1526             657                 19\n",
              "1869             2367                30\n",
              "Name: stateut, dtype: int64"
            ]
          },
          "metadata": {},
          "execution_count": 135
        }
      ]
    },
    {
      "cell_type": "code",
      "source": [
        "drivers.groupby(['wrongside2014','wrongside2016'])['stateut'].sum()"
      ],
      "metadata": {
        "colab": {
          "base_uri": "https://localhost:8080/"
        },
        "id": "jCbD7JmMY0M5",
        "outputId": "20bfc33b-1fa9-4773-93ed-91b3700a8a31"
      },
      "execution_count": null,
      "outputs": [
        {
          "output_type": "execute_result",
          "data": {
            "text/plain": [
              "wrongside2014  wrongside2016\n",
              "0              0                40\n",
              "               5                 7\n",
              "               7                 2\n",
              "               20               29\n",
              "               39               21\n",
              "               131               9\n",
              "1              2                31\n",
              "8              90               26\n",
              "11             31                0\n",
              "17             17                5\n",
              "26             0                24\n",
              "29             15               32\n",
              "43             21               13\n",
              "58             14               14\n",
              "61             19               10\n",
              "99             105              34\n",
              "127            512              27\n",
              "156            334               3\n",
              "205            93               35\n",
              "221            169              15\n",
              "266            410               6\n",
              "308            458               4\n",
              "393            913              12\n",
              "394            733              11\n",
              "519            565              25\n",
              "570            156              31\n",
              "656            981              28\n",
              "668            667               1\n",
              "763            2560             33\n",
              "796            1922             20\n",
              "877            900              16\n",
              "932            1300             19\n",
              "1138           1254             17\n",
              "1529           3209             30\n",
              "Name: stateut, dtype: int64"
            ]
          },
          "metadata": {},
          "execution_count": 136
        }
      ]
    },
    {
      "cell_type": "code",
      "source": [
        "drivers.groupby(['signalavoid2014','signalavoid2016'])['stateut'].sum()"
      ],
      "metadata": {
        "colab": {
          "base_uri": "https://localhost:8080/"
        },
        "id": "srpNUSFoZNkk",
        "outputId": "958f7956-5c2a-45cf-c856-d010661c2221"
      },
      "execution_count": null,
      "outputs": [
        {
          "output_type": "execute_result",
          "data": {
            "text/plain": [
              "signalavoid2014  signalavoid2016\n",
              "0                0                  191\n",
              "                 2                    0\n",
              "                 10                   5\n",
              "                 229                  9\n",
              "1                0                   32\n",
              "                 37                  15\n",
              "2                0                   28\n",
              "7                0                   34\n",
              "                 8                    4\n",
              "                 64                   3\n",
              "9                97                  20\n",
              "10               62                   6\n",
              "12               9                   26\n",
              "17               180                 27\n",
              "22               52                  31\n",
              "29               40                   1\n",
              "51               261                 11\n",
              "87               413                 19\n",
              "92               406                 17\n",
              "93               592                 12\n",
              "99               228                 16\n",
              "106              90                  35\n",
              "114              75                  25\n",
              "115              632                 33\n",
              "451              1004                30\n",
              "Name: stateut, dtype: int64"
            ]
          },
          "metadata": {},
          "execution_count": 137
        }
      ]
    },
    {
      "cell_type": "code",
      "source": [
        "drivers.groupby(['asleep2014','asleep2016'])['stateut'].sum()"
      ],
      "metadata": {
        "colab": {
          "base_uri": "https://localhost:8080/"
        },
        "id": "NitQdBzTZSpn",
        "outputId": "3fde45fa-196a-436b-bca1-7a8093ea3148"
      },
      "execution_count": null,
      "outputs": [
        {
          "output_type": "execute_result",
          "data": {
            "text/plain": [
              "asleep2014  asleep2016\n",
              "0           0             200\n",
              "            1               8\n",
              "            2               7\n",
              "            7              23\n",
              "            8               2\n",
              "            30             21\n",
              "3           3               3\n",
              "4           4              10\n",
              "6           0              15\n",
              "15          0              26\n",
              "34          17             27\n",
              "49          22             35\n",
              "72          122             4\n",
              "81          144             6\n",
              "86          681            19\n",
              "95          156            11\n",
              "129         378            20\n",
              "145         40             16\n",
              "154         306             1\n",
              "            462            12\n",
              "157         14             31\n",
              "161         80             25\n",
              "            671            30\n",
              "176         222            28\n",
              "238         1121           33\n",
              "1393        61             17\n",
              "Name: stateut, dtype: int64"
            ]
          },
          "metadata": {},
          "execution_count": 138
        }
      ]
    },
    {
      "cell_type": "code",
      "source": [
        "drivers.groupby(['othercause2014','othercause2016'])['stateut'].sum()"
      ],
      "metadata": {
        "colab": {
          "base_uri": "https://localhost:8080/"
        },
        "id": "1-0WkUoLZV34",
        "outputId": "e48a6799-512e-4876-9f2a-f7986940989c"
      },
      "execution_count": null,
      "outputs": [
        {
          "output_type": "execute_result",
          "data": {
            "text/plain": [
              "othercause2014  othercause2016\n",
              "0               0                 40\n",
              "                28                32\n",
              "                39                 0\n",
              "                66                21\n",
              "                1392              13\n",
              "                2838               9\n",
              "7               7                  5\n",
              "10              27                 8\n",
              "22              18                 2\n",
              "25              0                 15\n",
              "28              11                23\n",
              "51              0                 29\n",
              "65              4                  7\n",
              "70              0                 24\n",
              "72              70                34\n",
              "86              50                17\n",
              "153             498               27\n",
              "159             247               10\n",
              "283             904               11\n",
              "292             1210              12\n",
              "315             633               14\n",
              "326             1375              25\n",
              "417             193               26\n",
              "439             612                4\n",
              "520             953                6\n",
              "628             873                3\n",
              "1356            6915              35\n",
              "1803            5012              28\n",
              "1915            4093              33\n",
              "1938            2868               1\n",
              "4065            1301              31\n",
              "4130            4589              19\n",
              "4700            4955              16\n",
              "5537            3883              20\n",
              "6874            4866              30\n",
              "Name: stateut, dtype: int64"
            ]
          },
          "metadata": {},
          "execution_count": 139
        }
      ]
    },
    {
      "cell_type": "code",
      "source": [],
      "metadata": {
        "id": "FJzqafqyZxGj"
      },
      "execution_count": null,
      "outputs": []
    },
    {
      "cell_type": "code",
      "source": [],
      "metadata": {
        "id": "9WXMOwwpZ1SU"
      },
      "execution_count": null,
      "outputs": []
    }
  ]
}